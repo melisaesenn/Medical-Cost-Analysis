{
  "cells": [
    {
      "cell_type": "code",
      "execution_count": 327,
      "metadata": {
        "id": "bgSU0ox17aAm"
      },
      "outputs": [],
      "source": [
        "# Import Pandas, Numpy, Matplotlib and Seaborn\n",
        "import pandas as pd\n",
        "import numpy as np\n",
        "import matplotlib\n",
        "import matplotlib.pyplot as plt\n",
        "import seaborn as sns\n",
        "\n",
        "# Import Label Encoder, One Hot Encoder, train_test_split, Min Max Scaler,\n",
        "# Make Pipeline, Mean Squared Error, Mean Absolute Error, R2 Score, Cross Validation Score and Grid Search\n",
        "from sklearn.preprocessing import LabelEncoder\n",
        "from sklearn.preprocessing import OneHotEncoder\n",
        "from sklearn.model_selection import train_test_split\n",
        "from sklearn.preprocessing import StandardScaler\n",
        "from sklearn.pipeline import make_pipeline\n",
        "from sklearn.metrics import mean_squared_error\n",
        "from sklearn.metrics import mean_absolute_error\n",
        "from sklearn.metrics import r2_score\n",
        "from sklearn.model_selection import cross_val_score\n",
        "from sklearn.model_selection import GridSearchCV\n",
        "\n",
        "# Import Linear Regression, Ridge Classifier, Decision Tree\n",
        "# MLP Classifier, Random Forest and Support Vector Classifier models\n",
        "from sklearn.linear_model import LinearRegression\n",
        "from sklearn.linear_model import Ridge\n",
        "from sklearn.tree import DecisionTreeRegressor\n",
        "from sklearn.neural_network import MLPRegressor\n",
        "from sklearn.ensemble import RandomForestRegressor\n",
        "from sklearn.svm import SVR\n",
        "\n",
        "\n",
        "\n"
      ]
    },
    {
      "cell_type": "code",
      "execution_count": 328,
      "metadata": {
        "id": "EP0y3ZQKNKkR"
      },
      "outputs": [],
      "source": [
        "# Read the \"insurance.csv\" file\n",
        "dataset = pd.read_csv(\"/content/insurance.csv\")"
      ]
    },
    {
      "cell_type": "code",
      "execution_count": 329,
      "metadata": {
        "colab": {
          "base_uri": "https://localhost:8080/",
          "height": 206
        },
        "id": "UcLZQaOINkaw",
        "outputId": "e1bbd2e8-6acd-40a4-be28-e1365000c86c"
      },
      "outputs": [
        {
          "data": {
            "text/html": [
              "\n",
              "  <div id=\"df-2bada4b9-467b-469c-ac84-d5a37cab29cf\">\n",
              "    <div class=\"colab-df-container\">\n",
              "      <div>\n",
              "<style scoped>\n",
              "    .dataframe tbody tr th:only-of-type {\n",
              "        vertical-align: middle;\n",
              "    }\n",
              "\n",
              "    .dataframe tbody tr th {\n",
              "        vertical-align: top;\n",
              "    }\n",
              "\n",
              "    .dataframe thead th {\n",
              "        text-align: right;\n",
              "    }\n",
              "</style>\n",
              "<table border=\"1\" class=\"dataframe\">\n",
              "  <thead>\n",
              "    <tr style=\"text-align: right;\">\n",
              "      <th></th>\n",
              "      <th>age</th>\n",
              "      <th>sex</th>\n",
              "      <th>bmi</th>\n",
              "      <th>children</th>\n",
              "      <th>smoker</th>\n",
              "      <th>region</th>\n",
              "      <th>charges</th>\n",
              "    </tr>\n",
              "  </thead>\n",
              "  <tbody>\n",
              "    <tr>\n",
              "      <th>0</th>\n",
              "      <td>19</td>\n",
              "      <td>female</td>\n",
              "      <td>27.900</td>\n",
              "      <td>0</td>\n",
              "      <td>yes</td>\n",
              "      <td>southwest</td>\n",
              "      <td>16884.92400</td>\n",
              "    </tr>\n",
              "    <tr>\n",
              "      <th>1</th>\n",
              "      <td>18</td>\n",
              "      <td>male</td>\n",
              "      <td>33.770</td>\n",
              "      <td>1</td>\n",
              "      <td>no</td>\n",
              "      <td>southeast</td>\n",
              "      <td>1725.55230</td>\n",
              "    </tr>\n",
              "    <tr>\n",
              "      <th>2</th>\n",
              "      <td>28</td>\n",
              "      <td>male</td>\n",
              "      <td>33.000</td>\n",
              "      <td>3</td>\n",
              "      <td>no</td>\n",
              "      <td>southeast</td>\n",
              "      <td>4449.46200</td>\n",
              "    </tr>\n",
              "    <tr>\n",
              "      <th>3</th>\n",
              "      <td>33</td>\n",
              "      <td>male</td>\n",
              "      <td>22.705</td>\n",
              "      <td>0</td>\n",
              "      <td>no</td>\n",
              "      <td>northwest</td>\n",
              "      <td>21984.47061</td>\n",
              "    </tr>\n",
              "    <tr>\n",
              "      <th>4</th>\n",
              "      <td>32</td>\n",
              "      <td>male</td>\n",
              "      <td>28.880</td>\n",
              "      <td>0</td>\n",
              "      <td>no</td>\n",
              "      <td>northwest</td>\n",
              "      <td>3866.85520</td>\n",
              "    </tr>\n",
              "  </tbody>\n",
              "</table>\n",
              "</div>\n",
              "      <button class=\"colab-df-convert\" onclick=\"convertToInteractive('df-2bada4b9-467b-469c-ac84-d5a37cab29cf')\"\n",
              "              title=\"Convert this dataframe to an interactive table.\"\n",
              "              style=\"display:none;\">\n",
              "        \n",
              "  <svg xmlns=\"http://www.w3.org/2000/svg\" height=\"24px\"viewBox=\"0 0 24 24\"\n",
              "       width=\"24px\">\n",
              "    <path d=\"M0 0h24v24H0V0z\" fill=\"none\"/>\n",
              "    <path d=\"M18.56 5.44l.94 2.06.94-2.06 2.06-.94-2.06-.94-.94-2.06-.94 2.06-2.06.94zm-11 1L8.5 8.5l.94-2.06 2.06-.94-2.06-.94L8.5 2.5l-.94 2.06-2.06.94zm10 10l.94 2.06.94-2.06 2.06-.94-2.06-.94-.94-2.06-.94 2.06-2.06.94z\"/><path d=\"M17.41 7.96l-1.37-1.37c-.4-.4-.92-.59-1.43-.59-.52 0-1.04.2-1.43.59L10.3 9.45l-7.72 7.72c-.78.78-.78 2.05 0 2.83L4 21.41c.39.39.9.59 1.41.59.51 0 1.02-.2 1.41-.59l7.78-7.78 2.81-2.81c.8-.78.8-2.07 0-2.86zM5.41 20L4 18.59l7.72-7.72 1.47 1.35L5.41 20z\"/>\n",
              "  </svg>\n",
              "      </button>\n",
              "      \n",
              "  <style>\n",
              "    .colab-df-container {\n",
              "      display:flex;\n",
              "      flex-wrap:wrap;\n",
              "      gap: 12px;\n",
              "    }\n",
              "\n",
              "    .colab-df-convert {\n",
              "      background-color: #E8F0FE;\n",
              "      border: none;\n",
              "      border-radius: 50%;\n",
              "      cursor: pointer;\n",
              "      display: none;\n",
              "      fill: #1967D2;\n",
              "      height: 32px;\n",
              "      padding: 0 0 0 0;\n",
              "      width: 32px;\n",
              "    }\n",
              "\n",
              "    .colab-df-convert:hover {\n",
              "      background-color: #E2EBFA;\n",
              "      box-shadow: 0px 1px 2px rgba(60, 64, 67, 0.3), 0px 1px 3px 1px rgba(60, 64, 67, 0.15);\n",
              "      fill: #174EA6;\n",
              "    }\n",
              "\n",
              "    [theme=dark] .colab-df-convert {\n",
              "      background-color: #3B4455;\n",
              "      fill: #D2E3FC;\n",
              "    }\n",
              "\n",
              "    [theme=dark] .colab-df-convert:hover {\n",
              "      background-color: #434B5C;\n",
              "      box-shadow: 0px 1px 3px 1px rgba(0, 0, 0, 0.15);\n",
              "      filter: drop-shadow(0px 1px 2px rgba(0, 0, 0, 0.3));\n",
              "      fill: #FFFFFF;\n",
              "    }\n",
              "  </style>\n",
              "\n",
              "      <script>\n",
              "        const buttonEl =\n",
              "          document.querySelector('#df-2bada4b9-467b-469c-ac84-d5a37cab29cf button.colab-df-convert');\n",
              "        buttonEl.style.display =\n",
              "          google.colab.kernel.accessAllowed ? 'block' : 'none';\n",
              "\n",
              "        async function convertToInteractive(key) {\n",
              "          const element = document.querySelector('#df-2bada4b9-467b-469c-ac84-d5a37cab29cf');\n",
              "          const dataTable =\n",
              "            await google.colab.kernel.invokeFunction('convertToInteractive',\n",
              "                                                     [key], {});\n",
              "          if (!dataTable) return;\n",
              "\n",
              "          const docLinkHtml = 'Like what you see? Visit the ' +\n",
              "            '<a target=\"_blank\" href=https://colab.research.google.com/notebooks/data_table.ipynb>data table notebook</a>'\n",
              "            + ' to learn more about interactive tables.';\n",
              "          element.innerHTML = '';\n",
              "          dataTable['output_type'] = 'display_data';\n",
              "          await google.colab.output.renderOutput(dataTable, element);\n",
              "          const docLink = document.createElement('div');\n",
              "          docLink.innerHTML = docLinkHtml;\n",
              "          element.appendChild(docLink);\n",
              "        }\n",
              "      </script>\n",
              "    </div>\n",
              "  </div>\n",
              "  "
            ],
            "text/plain": [
              "   age     sex     bmi  children smoker     region      charges\n",
              "0   19  female  27.900         0    yes  southwest  16884.92400\n",
              "1   18    male  33.770         1     no  southeast   1725.55230\n",
              "2   28    male  33.000         3     no  southeast   4449.46200\n",
              "3   33    male  22.705         0     no  northwest  21984.47061\n",
              "4   32    male  28.880         0     no  northwest   3866.85520"
            ]
          },
          "execution_count": 329,
          "metadata": {},
          "output_type": "execute_result"
        }
      ],
      "source": [
        "# Use the head() function to display the first 5 rows of the data\n",
        "dataset.head()"
      ]
    },
    {
      "cell_type": "code",
      "execution_count": 330,
      "metadata": {
        "colab": {
          "base_uri": "https://localhost:8080/",
          "height": 301
        },
        "id": "gOzQLTd9NyBo",
        "outputId": "f68f4dc0-c009-4102-c047-7538e0c21b9c"
      },
      "outputs": [
        {
          "name": "stdout",
          "output_type": "stream",
          "text": [
            "15.96\n",
            "53.13\n"
          ]
        },
        {
          "data": {
            "image/png": "[encoded data removed]",
            "text/plain": [
              "<Figure size 432x288 with 1 Axes>"
            ]
          },
          "metadata": {
            "needs_background": "light"
          },
          "output_type": "display_data"
        }
      ],
      "source": [
        "# Examine the distribution of Bmi (Body Mass Index)\n",
        "bmis = dataset[\"bmi\"]\n",
        "\n",
        "list1 = []\n",
        "list2 = []\n",
        "list3 = []\n",
        "list4 = []\n",
        "list5 = []\n",
        "\n",
        "for i in bmis:\n",
        "  list1.append(i)\n",
        "print(min(list1)) \n",
        "print(max(list1))\n",
        "for i in list1:\n",
        "  if 15<i<=25:\n",
        "    list2.append(i)\n",
        "  elif 25<i<=35:\n",
        "    list3.append(i)  \n",
        "  elif 35<i<=45:\n",
        "    list4.append(i)  \n",
        "  elif 45<i<=55:\n",
        "    list5.append(i) \n",
        "sns.barplot(x=[\"15-25\", \"25-35\", \"35-45\",\"45-55\"],y=[len(list2), len(list3), len(list4), len(list5)],palette=\"twilight\")\n",
        "plt.show()"
      ]
    },
    {
      "cell_type": "code",
      "execution_count": 331,
      "metadata": {
        "colab": {
          "base_uri": "https://localhost:8080/",
          "height": 283
        },
        "id": "tE10AtmRrcVv",
        "outputId": "3cf489f0-26bb-436f-e189-3c8ea9805290"
      },
      "outputs": [
        {
          "data": {
            "image/png": "[encoded data removed]",
            "text/plain": [
              "<Figure size 432x288 with 1 Axes>"
            ]
          },
          "metadata": {
            "needs_background": "light"
          },
          "output_type": "display_data"
        }
      ],
      "source": [
        "# Examine the relationship between “smoker” and “charges”\n",
        "sns.barplot(x=dataset.smoker,y=dataset.charges,palette=\"twilight\")\n",
        "plt.show()"
      ]
    },
    {
      "cell_type": "code",
      "execution_count": 332,
      "metadata": {
        "colab": {
          "base_uri": "https://localhost:8080/",
          "height": 279
        },
        "id": "wz_MolJOsfXd",
        "outputId": "d16cfb07-52da-4f99-9d29-dbbd52e045b3"
      },
      "outputs": [
        {
          "data": {
            "image/png": "[encoded data removed]",
            "text/plain": [
              "<Figure size 432x288 with 1 Axes>"
            ]
          },
          "metadata": {
            "needs_background": "light"
          },
          "output_type": "display_data"
        }
      ],
      "source": [
        "# Examine the relationship between “smoker” and “region”\n",
        "sns.barplot(x=dataset.region,y=dataset.charges,hue=dataset.smoker,palette='twilight')\n",
        "plt.show()"
      ]
    },
    {
      "cell_type": "code",
      "execution_count": 333,
      "metadata": {
        "colab": {
          "base_uri": "https://localhost:8080/",
          "height": 279
        },
        "id": "dSlRAcN7unyK",
        "outputId": "688c82dc-4422-4e76-8239-5a1a1a0b9ca9"
      },
      "outputs": [
        {
          "data": {
            "image/png": "[encoded data removed]",
            "text/plain": [
              "<Figure size 432x288 with 1 Axes>"
            ]
          },
          "metadata": {
            "needs_background": "light"
          },
          "output_type": "display_data"
        }
      ],
      "source": [
        "# Examine the relationship between “bmi” and “sex”\n",
        "sns.countplot(x=dataset.bmi, hue=dataset.sex, palette='twilight')\n",
        "plt.show()"
      ]
    },
    {
      "cell_type": "code",
      "execution_count": 334,
      "metadata": {
        "colab": {
          "base_uri": "https://localhost:8080/",
          "height": 279
        },
        "id": "Xk9loRQNzyn5",
        "outputId": "a93fe1b5-0fa5-4c64-f628-25fe4392287b"
      },
      "outputs": [
        {
          "data": {
            "image/png": "[encoded data removed]",
            "text/plain": [
              "<Figure size 432x288 with 1 Axes>"
            ]
          },
          "metadata": {
            "needs_background": "light"
          },
          "output_type": "display_data"
        }
      ],
      "source": [
        "# Find the \"region\" with the most \"children\".\n",
        "sns.countplot(x=dataset.region, hue=dataset.children, palette='twilight')\n",
        "plt.show()"
      ]
    },
    {
      "cell_type": "code",
      "execution_count": 335,
      "metadata": {
        "colab": {
          "base_uri": "https://localhost:8080/",
          "height": 279
        },
        "id": "ETf8loKn03Yw",
        "outputId": "82e8e170-668c-4b72-9f18-30e1b482b683"
      },
      "outputs": [
        {
          "data": {
            "image/png": "[encoded data removed]",
            "text/plain": [
              "<Figure size 432x288 with 1 Axes>"
            ]
          },
          "metadata": {
            "needs_background": "light"
          },
          "output_type": "display_data"
        }
      ],
      "source": [
        "# Examine the relationship between “age” and “bmi”\n",
        "sns.lineplot(x=dataset.age, y=dataset.bmi, palette='twilight')\n",
        "plt.show()"
      ]
    },
    {
      "cell_type": "code",
      "execution_count": 336,
      "metadata": {
        "colab": {
          "base_uri": "https://localhost:8080/",
          "height": 279
        },
        "id": "LGCoXpJl1p1K",
        "outputId": "75738149-78a1-49ee-db9d-d7dff8300f5b"
      },
      "outputs": [
        {
          "data": {
            "image/png": "[encoded data removed]",
            "text/plain": [
              "<Figure size 432x288 with 1 Axes>"
            ]
          },
          "metadata": {
            "needs_background": "light"
          },
          "output_type": "display_data"
        }
      ],
      "source": [
        "# Examine the relationship between “bmi” and “children”\n",
        "sns.countplot(x=dataset.bmi, hue=dataset.children, palette='twilight')\n",
        "plt.show()  \n"
      ]
    },
    {
      "cell_type": "code",
      "execution_count": 337,
      "metadata": {
        "colab": {
          "base_uri": "https://localhost:8080/",
          "height": 279
        },
        "id": "D_qJn7PI3546",
        "outputId": "1edd3406-181c-4880-9731-9181ae6f0051"
      },
      "outputs": [
        {
          "data": {
            "image/png": "[encoded data removed]",
            "text/plain": [
              "<Figure size 432x288 with 1 Axes>"
            ]
          },
          "metadata": {
            "needs_background": "light"
          },
          "output_type": "display_data"
        }
      ],
      "source": [
        "# Examine the relationship between “bmi” and “charges”.\n",
        "sns.scatterplot(x=dataset.bmi, y=dataset.charges, color=(0.3, 0.3, 0.5, 0.4))\n",
        "plt.show()"
      ]
    },
    {
      "cell_type": "code",
      "execution_count": 338,
      "metadata": {
        "colab": {
          "base_uri": "https://localhost:8080/",
          "height": 279
        },
        "id": "Qx9SgveR39cL",
        "outputId": "839aa8ea-c5bb-43e8-b684-576b7cfef2c2"
      },
      "outputs": [
        {
          "data": {
            "image/png": "[encoded data removed]",
            "text/plain": [
              "<Figure size 432x288 with 1 Axes>"
            ]
          },
          "metadata": {
            "needs_background": "light"
          },
          "output_type": "display_data"
        }
      ],
      "source": [
        "# Examine the relationship between “region”, “smoker” and “bmi” using bar plot\n",
        "sns.barplot(x=dataset.region,y=dataset.bmi, hue=dataset.smoker, palette='twilight')\n",
        "plt.show()"
      ]
    },
    {
      "cell_type": "code",
      "execution_count": 339,
      "metadata": {
        "colab": {
          "base_uri": "https://localhost:8080/"
        },
        "id": "aPo5EC1ztu4N",
        "outputId": "0a0de411-84bd-4ac0-f26e-59179ced1291"
      },
      "outputs": [
        {
          "name": "stdout",
          "output_type": "stream",
          "text": [
            "['southwest' 'southeast' 'northwest' 'northeast']\n",
            "['female' 'male']\n",
            "['yes' 'no']\n"
          ]
        }
      ],
      "source": [
        "# Checking for the labels in the \"region\", \"sex\" and \"smoker\" columns\n",
        "print(dataset['region'].unique())\n",
        "print(dataset['sex'].unique())\n",
        "print(dataset['smoker'].unique())"
      ]
    },
    {
      "cell_type": "code",
      "execution_count": 340,
      "metadata": {
        "colab": {
          "base_uri": "https://localhost:8080/"
        },
        "id": "w7_v6PYeuSBb",
        "outputId": "9d7c410a-95bb-4161-cc8d-950a9f763286"
      },
      "outputs": [
        {
          "name": "stdout",
          "output_type": "stream",
          "text": [
            "southeast    364\n",
            "southwest    325\n",
            "northwest    325\n",
            "northeast    324\n",
            "Name: region, dtype: int64\n",
            "male      676\n",
            "female    662\n",
            "Name: sex, dtype: int64\n",
            "no     1064\n",
            "yes     274\n",
            "Name: smoker, dtype: int64\n"
          ]
        }
      ],
      "source": [
        "# Checking for the label counts in the \"region\", \"sex\" and \"smoker\" columns\n",
        "print(dataset['region'].value_counts())\n",
        "print(dataset['sex'].value_counts())\n",
        "print(dataset['smoker'].value_counts())"
      ]
    },
    {
      "cell_type": "code",
      "execution_count": 341,
      "metadata": {
        "id": "Sem9WUEjVgVZ"
      },
      "outputs": [],
      "source": [
        "# Create an LabelEncoder object\n",
        "labelencoder = LabelEncoder()\n",
        "\n",
        "# Create transform function for the \"sex\" and \"smoker\" column\n",
        "def transform(columnname):\n",
        "   dataset[columnname] = labelencoder.fit_transform(dataset[columnname].values) \n",
        "\n"
      ]
    },
    {
      "cell_type": "code",
      "execution_count": 342,
      "metadata": {
        "id": "paGJ3sDpYwH-"
      },
      "outputs": [],
      "source": [
        "# One-Hot encoding the \"region\", \"sex\", \"smoker\" and \"children\" columns using get_dummies() \n",
        "dataset = pd.get_dummies(dataset, columns = ['region', 'sex', 'smoker', 'children'])"
      ]
    },
    {
      "cell_type": "code",
      "execution_count": 343,
      "metadata": {
        "id": "nJ_VAz3VwHvK"
      },
      "outputs": [],
      "source": [
        "# Create the X variable for features\n",
        "X = dataset.drop(\"charges\", axis = 1)\n",
        "\n",
        "# Create the y variable for output labels\n",
        "y = dataset.loc[:, \"charges\"]"
      ]
    },
    {
      "cell_type": "code",
      "execution_count": 344,
      "metadata": {
        "colab": {
          "base_uri": "https://localhost:8080/"
        },
        "id": "5QXJSDOIw6t_",
        "outputId": "2e745b7c-e76d-4d5f-c849-ea9c145db5d3"
      },
      "outputs": [
        {
          "name": "stdout",
          "output_type": "stream",
          "text": [
            "      age     bmi  region_northeast  region_northwest  region_southeast  \\\n",
            "0      19  27.900                 0                 0                 0   \n",
            "1      18  33.770                 0                 0                 1   \n",
            "2      28  33.000                 0                 0                 1   \n",
            "3      33  22.705                 0                 1                 0   \n",
            "4      32  28.880                 0                 1                 0   \n",
            "...   ...     ...               ...               ...               ...   \n",
            "1333   50  30.970                 0                 1                 0   \n",
            "1334   18  31.920                 1                 0                 0   \n",
            "1335   18  36.850                 0                 0                 1   \n",
            "1336   21  25.800                 0                 0                 0   \n",
            "1337   61  29.070                 0                 1                 0   \n",
            "\n",
            "      region_southwest  sex_female  sex_male  smoker_no  smoker_yes  \\\n",
            "0                    1           1         0          0           1   \n",
            "1                    0           0         1          1           0   \n",
            "2                    0           0         1          1           0   \n",
            "3                    0           0         1          1           0   \n",
            "4                    0           0         1          1           0   \n",
            "...                ...         ...       ...        ...         ...   \n",
            "1333                 0           0         1          1           0   \n",
            "1334                 0           1         0          1           0   \n",
            "1335                 0           1         0          1           0   \n",
            "1336                 1           1         0          1           0   \n",
            "1337                 0           1         0          0           1   \n",
            "\n",
            "      children_0  children_1  children_2  children_3  children_4  children_5  \n",
            "0              1           0           0           0           0           0  \n",
            "1              0           1           0           0           0           0  \n",
            "2              0           0           0           1           0           0  \n",
            "3              1           0           0           0           0           0  \n",
            "4              1           0           0           0           0           0  \n",
            "...          ...         ...         ...         ...         ...         ...  \n",
            "1333           0           0           0           1           0           0  \n",
            "1334           1           0           0           0           0           0  \n",
            "1335           1           0           0           0           0           0  \n",
            "1336           1           0           0           0           0           0  \n",
            "1337           1           0           0           0           0           0  \n",
            "\n",
            "[1338 rows x 16 columns]\n"
          ]
        }
      ],
      "source": [
        "# Print both X and y to see the final data\n",
        "# Print X\n",
        "print(X)"
      ]
    },
    {
      "cell_type": "code",
      "execution_count": 345,
      "metadata": {
        "colab": {
          "base_uri": "https://localhost:8080/"
        },
        "id": "rgXUHZMLxF2D",
        "outputId": "e290bbdf-d5f4-4e20-d9e9-9ff78f7d41ea"
      },
      "outputs": [
        {
          "name": "stdout",
          "output_type": "stream",
          "text": [
            "0       16884.92400\n",
            "1        1725.55230\n",
            "2        4449.46200\n",
            "3       21984.47061\n",
            "4        3866.85520\n",
            "           ...     \n",
            "1333    10600.54830\n",
            "1334     2205.98080\n",
            "1335     1629.83350\n",
            "1336     2007.94500\n",
            "1337    29141.36030\n",
            "Name: charges, Length: 1338, dtype: float64\n"
          ]
        }
      ],
      "source": [
        "# Print y\n",
        "print(y)"
      ]
    },
    {
      "cell_type": "code",
      "execution_count": 346,
      "metadata": {
        "colab": {
          "base_uri": "https://localhost:8080/"
        },
        "id": "rDouC2K3yhmq",
        "outputId": "6023606c-3802-49ea-fccb-7e03af5a7f9f"
      },
      "outputs": [
        {
          "name": "stdout",
          "output_type": "stream",
          "text": [
            "[[-1.43876426 -0.45332    -0.56526686 ... -0.3646069  -0.13798683\n",
            "  -0.11677484]\n",
            " [-1.50996545  0.5096211  -0.56526686 ... -0.3646069  -0.13798683\n",
            "  -0.11677484]\n",
            " [-0.79795355  0.38330685 -0.56526686 ...  2.74267989 -0.13798683\n",
            "  -0.11677484]\n",
            " ...\n",
            " [-1.50996545  1.0148781  -0.56526686 ... -0.3646069  -0.13798683\n",
            "  -0.11677484]\n",
            " [-1.29636188 -0.79781341 -0.56526686 ... -0.3646069  -0.13798683\n",
            "  -0.11677484]\n",
            " [ 1.55168573 -0.26138796 -0.56526686 ... -0.3646069  -0.13798683\n",
            "  -0.11677484]]\n"
          ]
        }
      ],
      "source": [
        "# Create an Scaler object\n",
        "scaler = StandardScaler()\n",
        "\n",
        "# Scale features\n",
        "X = scaler.fit_transform(X)\n",
        "\n",
        "# Print scaled features \n",
        "print(X)"
      ]
    },
    {
      "cell_type": "code",
      "execution_count": 347,
      "metadata": {
        "id": "1rXoZ28mzH14"
      },
      "outputs": [],
      "source": [
        "# Split the dataset into train and test sets with 80-20 ratio\n",
        "X_train, X_test, y_train, y_test = train_test_split(X,y, test_size=0.2)"
      ]
    },
    {
      "cell_type": "code",
      "execution_count": 348,
      "metadata": {
        "id": "2E9eQVXCzJ3Z"
      },
      "outputs": [],
      "source": [
        "# Create an object using the LinearRegression() class\n",
        "LR = LinearRegression()\n",
        "\n",
        "# Create an object using the Ridge() class\n",
        "Rid = Ridge()\n",
        "\n",
        "# Create an object using the DecisionTreeRegressor() class\n",
        "DTR = DecisionTreeRegressor()\n",
        "\n",
        "# Create an object using the MLPregressor() class\n",
        "MLP = MLPRegressor()\n",
        "\n",
        "# Create an object using the RandomForestRegressor() class\n",
        "RFR = RandomForestRegressor()\n",
        "\n",
        "# Create an object using the SVR() class\n",
        "SV = SVR()"
      ]
    },
    {
      "cell_type": "code",
      "execution_count": 349,
      "metadata": {
        "colab": {
          "base_uri": "https://localhost:8080/"
        },
        "id": "Bl3TXdHUSUcn",
        "outputId": "3d148d39-4be3-468a-c70b-3ac0c04d5411"
      },
      "outputs": [
        {
          "name": "stderr",
          "output_type": "stream",
          "text": [
            "/usr/local/lib/python3.7/dist-packages/sklearn/neural_network/_multilayer_perceptron.py:696: ConvergenceWarning: Stochastic Optimizer: Maximum iterations (200) reached and the optimization hasn't converged yet.\n",
            "  ConvergenceWarning,\n"
          ]
        },
        {
          "data": {
            "text/plain": [
              "SVR()"
            ]
          },
          "execution_count": 349,
          "metadata": {},
          "output_type": "execute_result"
        }
      ],
      "source": [
        "# Train the Linear Regression model\n",
        "LR.fit(X_train,y_train)\n",
        "\n",
        "# Train the Ridge Regression model\n",
        "Rid.fit(X_train,y_train)\n",
        "\n",
        "# Train the Decision Tree Regression model\n",
        "DTR.fit(X_train,y_train)\n",
        "\n",
        "# Train the MLP Regression model\n",
        "MLP.fit(X_train,y_train)\n",
        "\n",
        "# Train the Random Forest Regression model\n",
        "RFR.fit(X_train,y_train)\n",
        "\n",
        "# Train the Support Vector Regression model\n",
        "SV.fit(X_train,y_train)\n",
        "\n"
      ]
    },
    {
      "cell_type": "code",
      "execution_count": 350,
      "metadata": {
        "id": "BOJe-CqJIT9k"
      },
      "outputs": [],
      "source": [
        "# Make prediction using the train dataset on Linear Regression model\n",
        "trainpredictionsLR = LR.predict(X_train)\n",
        "\n",
        "# Make prediction using the train dataset on Ridge Regression model\n",
        "trainpredictionsRid = Rid.predict(X_train)\n",
        "\n",
        "# Make prediction using the train dataset on Decision Tree Regression model\n",
        "trainpredictionsDTR = DTR.predict(X_train)\n",
        "\n",
        "# Make prediction using the train dataset on MLP Regression model\n",
        "trainpredictionsMLP = MLP.predict(X_train)\n",
        "\n",
        "# Make prediction using the train dataset on Random Forest Regression model\n",
        "trainpredictionsRFR = RFR.predict(X_train)\n",
        "\n",
        "# Make prediction using the train dataset on Support Vector Regression model\n",
        "trainpredictionsSV = SV.predict(X_train)"
      ]
    },
    {
      "cell_type": "code",
      "execution_count": 351,
      "metadata": {
        "id": "jTTaEv-0fugo"
      },
      "outputs": [],
      "source": [
        "# Make prediction using the test dataset on Linear Regression model\n",
        "predictionsLR = LR.predict(X_test)\n",
        "\n",
        "# Make prediction using the test dataset on Ridge Regression model\n",
        "predictionsRid = Rid.predict(X_test)\n",
        "\n",
        "# Make prediction using the test dataset on Decision Tree Regression model\n",
        "predictionsDTR = DTR.predict(X_test)\n",
        "\n",
        "# Make prediction using the test dataset on MLP Regression model\n",
        "predictionsMLP = MLP.predict(X_test)\n",
        "\n",
        "# Make prediction using the test dataset on Random Forest Regression model\n",
        "predictionsRFR = RFR.predict(X_test)\n",
        "\n",
        "# Make prediction using the test dataset on Support Vector Regression model\n",
        "predictionsSV = SV.predict(X_test)"
      ]
    },
    {
      "cell_type": "code",
      "execution_count": 352,
      "metadata": {
        "colab": {
          "base_uri": "https://localhost:8080/"
        },
        "id": "ParDrweoQ24q",
        "outputId": "6d68b78c-f57a-444c-f88d-337a7d8499ac"
      },
      "outputs": [
        {
          "name": "stdout",
          "output_type": "stream",
          "text": [
            "Linear Regression score : [0.75934538 0.7062713  0.78010408 0.73368933 0.75228635]\n",
            "Ridge Regression score : [0.76027039 0.70617265 0.77823585 0.73393791 0.75273179]\n",
            "Decision Tree Regression score : [0.72816941 0.65580681 0.71528262 0.68047013 0.71335375]\n"
          ]
        },
        {
          "name": "stderr",
          "output_type": "stream",
          "text": [
            "/usr/local/lib/python3.7/dist-packages/sklearn/neural_network/_multilayer_perceptron.py:696: ConvergenceWarning: Stochastic Optimizer: Maximum iterations (200) reached and the optimization hasn't converged yet.\n",
            "  ConvergenceWarning,\n",
            "/usr/local/lib/python3.7/dist-packages/sklearn/neural_network/_multilayer_perceptron.py:696: ConvergenceWarning: Stochastic Optimizer: Maximum iterations (200) reached and the optimization hasn't converged yet.\n",
            "  ConvergenceWarning,\n",
            "/usr/local/lib/python3.7/dist-packages/sklearn/neural_network/_multilayer_perceptron.py:696: ConvergenceWarning: Stochastic Optimizer: Maximum iterations (200) reached and the optimization hasn't converged yet.\n",
            "  ConvergenceWarning,\n",
            "/usr/local/lib/python3.7/dist-packages/sklearn/neural_network/_multilayer_perceptron.py:696: ConvergenceWarning: Stochastic Optimizer: Maximum iterations (200) reached and the optimization hasn't converged yet.\n",
            "  ConvergenceWarning,\n",
            "/usr/local/lib/python3.7/dist-packages/sklearn/neural_network/_multilayer_perceptron.py:696: ConvergenceWarning: Stochastic Optimizer: Maximum iterations (200) reached and the optimization hasn't converged yet.\n",
            "  ConvergenceWarning,\n"
          ]
        },
        {
          "name": "stdout",
          "output_type": "stream",
          "text": [
            "MLP Regression score : [-1.01766174 -1.11635891 -0.95774864 -1.04213102 -1.00506365]\n",
            "Random Forest Regression score : [0.85344178 0.7747911  0.86757733 0.82307354 0.85178128]\n",
            "Support Vector Regression score : [-0.11081627 -0.1096904  -0.07801234 -0.10281253 -0.10329426]\n"
          ]
        }
      ],
      "source": [
        "# Print cross validation score for Linear Regression model\n",
        "scoreLR = cross_val_score(LR, X, y, cv=5)\n",
        "print('Linear Regression score :', scoreLR)\n",
        "\n",
        "# Print cross validation score for Ridge Regression model\n",
        "scoreRid = cross_val_score(Rid, X, y, cv=5)\n",
        "print('Ridge Regression score :', scoreRid)\n",
        "\n",
        "# Print cross validation score for Decision Tree Regression model\n",
        "scoreDTR = cross_val_score(DTR, X, y, cv=5)\n",
        "print('Decision Tree Regression score :', scoreDTR)\n",
        "\n",
        "# Print cross validation score for MLP Regression model\n",
        "scoreMLP = cross_val_score(MLP, X, y, cv=5)\n",
        "print('MLP Regression score :', scoreMLP)\n",
        "\n",
        "# Print cross validation score for Random Forest Regression model\n",
        "scoreRFR = cross_val_score(RFR, X, y, cv=5)\n",
        "print('Random Forest Regression score :', scoreRFR)\n",
        "\n",
        "# Print cross validation score for Support Vector Regression model\n",
        "scoreSV = cross_val_score(SV, X, y, cv=5)\n",
        "print('Support Vector Regression score :', scoreSV)"
      ]
    },
    {
      "cell_type": "code",
      "execution_count": 353,
      "metadata": {
        "colab": {
          "base_uri": "https://localhost:8080/"
        },
        "id": "NnePlRB9NEqz",
        "outputId": "d4bf3297-ef2c-4f87-8739-b3522eacc4cd"
      },
      "outputs": [
        {
          "name": "stdout",
          "output_type": "stream",
          "text": [
            "Fitting 5 folds for each of 108 candidates, totalling 540 fits\n",
            "[CV] END bootstrap=True, max_depth=8, max_features=auto, min_samples_leaf=2, min_samples_split=10, n_estimators=200; total time=   0.4s\n",
            "[CV] END bootstrap=True, max_depth=8, max_features=auto, min_samples_leaf=2, min_samples_split=10, n_estimators=200; total time=   0.4s\n",
            "[CV] END bootstrap=True, max_depth=8, max_features=auto, min_samples_leaf=2, min_samples_split=10, n_estimators=200; total time=   0.4s\n",
            "[CV] END bootstrap=True, max_depth=8, max_features=auto, min_samples_leaf=2, min_samples_split=10, n_estimators=200; total time=   0.4s\n",
            "[CV] END bootstrap=True, max_depth=8, max_features=auto, min_samples_leaf=2, min_samples_split=10, n_estimators=200; total time=   0.4s\n",
            "[CV] END bootstrap=True, max_depth=8, max_features=auto, min_samples_leaf=2, min_samples_split=10, n_estimators=500; total time=   1.0s\n",
            "[CV] END bootstrap=True, max_depth=8, max_features=auto, min_samples_leaf=2, min_samples_split=10, n_estimators=500; total time=   1.0s\n",
            "[CV] END bootstrap=True, max_depth=8, max_features=auto, min_samples_leaf=2, min_samples_split=10, n_estimators=500; total time=   1.0s\n",
            "[CV] END bootstrap=True, max_depth=8, max_features=auto, min_samples_leaf=2, min_samples_split=10, n_estimators=500; total time=   1.0s\n",
            "[CV] END bootstrap=True, max_depth=8, max_features=auto, min_samples_leaf=2, min_samples_split=10, n_estimators=500; total time=   1.0s\n",
            "[CV] END bootstrap=True, max_depth=8, max_features=auto, min_samples_leaf=2, min_samples_split=10, n_estimators=1000; total time=   1.9s\n",
            "[CV] END bootstrap=True, max_depth=8, max_features=auto, min_samples_leaf=2, min_samples_split=10, n_estimators=1000; total time=   1.9s\n",
            "[CV] END bootstrap=True, max_depth=8, max_features=auto, min_samples_leaf=2, min_samples_split=10, n_estimators=1000; total time=   1.9s\n",
            "[CV] END bootstrap=True, max_depth=8, max_features=auto, min_samples_leaf=2, min_samples_split=10, n_estimators=1000; total time=   2.0s\n",
            "[CV] END bootstrap=True, max_depth=8, max_features=auto, min_samples_leaf=2, min_samples_split=10, n_estimators=1000; total time=   2.0s\n",
            "[CV] END bootstrap=True, max_depth=8, max_features=auto, min_samples_leaf=2, min_samples_split=12, n_estimators=200; total time=   0.4s\n",
            "[CV] END bootstrap=True, max_depth=8, max_features=auto, min_samples_leaf=2, min_samples_split=12, n_estimators=200; total time=   0.4s\n",
            "[CV] END bootstrap=True, max_depth=8, max_features=auto, min_samples_leaf=2, min_samples_split=12, n_estimators=200; total time=   0.4s\n",
            "[CV] END bootstrap=True, max_depth=8, max_features=auto, min_samples_leaf=2, min_samples_split=12, n_estimators=200; total time=   0.4s\n",
            "[CV] END bootstrap=True, max_depth=8, max_features=auto, min_samples_leaf=2, min_samples_split=12, n_estimators=200; total time=   0.4s\n",
            "[CV] END bootstrap=True, max_depth=8, max_features=auto, min_samples_leaf=2, min_samples_split=12, n_estimators=500; total time=   1.0s\n",
            "[CV] END bootstrap=True, max_depth=8, max_features=auto, min_samples_leaf=2, min_samples_split=12, n_estimators=500; total time=   1.0s\n",
            "[CV] END bootstrap=True, max_depth=8, max_features=auto, min_samples_leaf=2, min_samples_split=12, n_estimators=500; total time=   1.0s\n",
            "[CV] END bootstrap=True, max_depth=8, max_features=auto, min_samples_leaf=2, min_samples_split=12, n_estimators=500; total time=   1.0s\n",
            "[CV] END bootstrap=True, max_depth=8, max_features=auto, min_samples_leaf=2, min_samples_split=12, n_estimators=500; total time=   1.0s\n",
            "[CV] END bootstrap=True, max_depth=8, max_features=auto, min_samples_leaf=2, min_samples_split=12, n_estimators=1000; total time=   1.9s\n",
            "[CV] END bootstrap=True, max_depth=8, max_features=auto, min_samples_leaf=2, min_samples_split=12, n_estimators=1000; total time=   1.9s\n",
            "[CV] END bootstrap=True, max_depth=8, max_features=auto, min_samples_leaf=2, min_samples_split=12, n_estimators=1000; total time=   1.9s\n",
            "[CV] END bootstrap=True, max_depth=8, max_features=auto, min_samples_leaf=2, min_samples_split=12, n_estimators=1000; total time=   1.9s\n",
            "[CV] END bootstrap=True, max_depth=8, max_features=auto, min_samples_leaf=2, min_samples_split=12, n_estimators=1000; total time=   1.9s\n",
            "[CV] END bootstrap=True, max_depth=8, max_features=auto, min_samples_leaf=2, min_samples_split=14, n_estimators=200; total time=   0.4s\n",
            "[CV] END bootstrap=True, max_depth=8, max_features=auto, min_samples_leaf=2, min_samples_split=14, n_estimators=200; total time=   0.4s\n",
            "[CV] END bootstrap=True, max_depth=8, max_features=auto, min_samples_leaf=2, min_samples_split=14, n_estimators=200; total time=   0.4s\n",
            "[CV] END bootstrap=True, max_depth=8, max_features=auto, min_samples_leaf=2, min_samples_split=14, n_estimators=200; total time=   0.4s\n",
            "[CV] END bootstrap=True, max_depth=8, max_features=auto, min_samples_leaf=2, min_samples_split=14, n_estimators=200; total time=   0.4s\n",
            "[CV] END bootstrap=True, max_depth=8, max_features=auto, min_samples_leaf=2, min_samples_split=14, n_estimators=500; total time=   0.9s\n",
            "[CV] END bootstrap=True, max_depth=8, max_features=auto, min_samples_leaf=2, min_samples_split=14, n_estimators=500; total time=   1.0s\n",
            "[CV] END bootstrap=True, max_depth=8, max_features=auto, min_samples_leaf=2, min_samples_split=14, n_estimators=500; total time=   1.0s\n",
            "[CV] END bootstrap=True, max_depth=8, max_features=auto, min_samples_leaf=2, min_samples_split=14, n_estimators=500; total time=   1.0s\n",
            "[CV] END bootstrap=True, max_depth=8, max_features=auto, min_samples_leaf=2, min_samples_split=14, n_estimators=500; total time=   1.0s\n",
            "[CV] END bootstrap=True, max_depth=8, max_features=auto, min_samples_leaf=2, min_samples_split=14, n_estimators=1000; total time=   1.9s\n",
            "[CV] END bootstrap=True, max_depth=8, max_features=auto, min_samples_leaf=2, min_samples_split=14, n_estimators=1000; total time=   1.9s\n",
            "[CV] END bootstrap=True, max_depth=8, max_features=auto, min_samples_leaf=2, min_samples_split=14, n_estimators=1000; total time=   2.2s\n",
            "[CV] END bootstrap=True, max_depth=8, max_features=auto, min_samples_leaf=2, min_samples_split=14, n_estimators=1000; total time=   1.9s\n",
            "[CV] END bootstrap=True, max_depth=8, max_features=auto, min_samples_leaf=2, min_samples_split=14, n_estimators=1000; total time=   1.9s\n",
            "[CV] END bootstrap=True, max_depth=8, max_features=auto, min_samples_leaf=2, min_samples_split=16, n_estimators=200; total time=   0.4s\n",
            "[CV] END bootstrap=True, max_depth=8, max_features=auto, min_samples_leaf=2, min_samples_split=16, n_estimators=200; total time=   0.4s\n",
            "[CV] END bootstrap=True, max_depth=8, max_features=auto, min_samples_leaf=2, min_samples_split=16, n_estimators=200; total time=   0.4s\n",
            "[CV] END bootstrap=True, max_depth=8, max_features=auto, min_samples_leaf=2, min_samples_split=16, n_estimators=200; total time=   0.4s\n",
            "[CV] END bootstrap=True, max_depth=8, max_features=auto, min_samples_leaf=2, min_samples_split=16, n_estimators=200; total time=   0.4s\n",
            "[CV] END bootstrap=True, max_depth=8, max_features=auto, min_samples_leaf=2, min_samples_split=16, n_estimators=500; total time=   0.9s\n",
            "[CV] END bootstrap=True, max_depth=8, max_features=auto, min_samples_leaf=2, min_samples_split=16, n_estimators=500; total time=   0.9s\n",
            "[CV] END bootstrap=True, max_depth=8, max_features=auto, min_samples_leaf=2, min_samples_split=16, n_estimators=500; total time=   0.9s\n",
            "[CV] END bootstrap=True, max_depth=8, max_features=auto, min_samples_leaf=2, min_samples_split=16, n_estimators=500; total time=   0.9s\n",
            "[CV] END bootstrap=True, max_depth=8, max_features=auto, min_samples_leaf=2, min_samples_split=16, n_estimators=500; total time=   0.9s\n",
            "[CV] END bootstrap=True, max_depth=8, max_features=auto, min_samples_leaf=2, min_samples_split=16, n_estimators=1000; total time=   1.9s\n",
            "[CV] END bootstrap=True, max_depth=8, max_features=auto, min_samples_leaf=2, min_samples_split=16, n_estimators=1000; total time=   1.9s\n",
            "[CV] END bootstrap=True, max_depth=8, max_features=auto, min_samples_leaf=2, min_samples_split=16, n_estimators=1000; total time=   1.9s\n",
            "[CV] END bootstrap=True, max_depth=8, max_features=auto, min_samples_leaf=2, min_samples_split=16, n_estimators=1000; total time=   1.9s\n",
            "[CV] END bootstrap=True, max_depth=8, max_features=auto, min_samples_leaf=2, min_samples_split=16, n_estimators=1000; total time=   1.9s\n",
            "[CV] END bootstrap=True, max_depth=8, max_features=auto, min_samples_leaf=4, min_samples_split=10, n_estimators=200; total time=   0.4s\n",
            "[CV] END bootstrap=True, max_depth=8, max_features=auto, min_samples_leaf=4, min_samples_split=10, n_estimators=200; total time=   0.4s\n",
            "[CV] END bootstrap=True, max_depth=8, max_features=auto, min_samples_leaf=4, min_samples_split=10, n_estimators=200; total time=   0.4s\n",
            "[CV] END bootstrap=True, max_depth=8, max_features=auto, min_samples_leaf=4, min_samples_split=10, n_estimators=200; total time=   0.4s\n",
            "[CV] END bootstrap=True, max_depth=8, max_features=auto, min_samples_leaf=4, min_samples_split=10, n_estimators=200; total time=   0.4s\n",
            "[CV] END bootstrap=True, max_depth=8, max_features=auto, min_samples_leaf=4, min_samples_split=10, n_estimators=500; total time=   1.0s\n",
            "[CV] END bootstrap=True, max_depth=8, max_features=auto, min_samples_leaf=4, min_samples_split=10, n_estimators=500; total time=   1.0s\n",
            "[CV] END bootstrap=True, max_depth=8, max_features=auto, min_samples_leaf=4, min_samples_split=10, n_estimators=500; total time=   1.0s\n",
            "[CV] END bootstrap=True, max_depth=8, max_features=auto, min_samples_leaf=4, min_samples_split=10, n_estimators=500; total time=   1.0s\n",
            "[CV] END bootstrap=True, max_depth=8, max_features=auto, min_samples_leaf=4, min_samples_split=10, n_estimators=500; total time=   1.0s\n",
            "[CV] END bootstrap=True, max_depth=8, max_features=auto, min_samples_leaf=4, min_samples_split=10, n_estimators=1000; total time=   1.9s\n",
            "[CV] END bootstrap=True, max_depth=8, max_features=auto, min_samples_leaf=4, min_samples_split=10, n_estimators=1000; total time=   1.9s\n",
            "[CV] END bootstrap=True, max_depth=8, max_features=auto, min_samples_leaf=4, min_samples_split=10, n_estimators=1000; total time=   1.9s\n",
            "[CV] END bootstrap=True, max_depth=8, max_features=auto, min_samples_leaf=4, min_samples_split=10, n_estimators=1000; total time=   1.9s\n",
            "[CV] END bootstrap=True, max_depth=8, max_features=auto, min_samples_leaf=4, min_samples_split=10, n_estimators=1000; total time=   1.9s\n",
            "[CV] END bootstrap=True, max_depth=8, max_features=auto, min_samples_leaf=4, min_samples_split=12, n_estimators=200; total time=   0.4s\n",
            "[CV] END bootstrap=True, max_depth=8, max_features=auto, min_samples_leaf=4, min_samples_split=12, n_estimators=200; total time=   0.4s\n",
            "[CV] END bootstrap=True, max_depth=8, max_features=auto, min_samples_leaf=4, min_samples_split=12, n_estimators=200; total time=   0.4s\n",
            "[CV] END bootstrap=True, max_depth=8, max_features=auto, min_samples_leaf=4, min_samples_split=12, n_estimators=200; total time=   0.4s\n",
            "[CV] END bootstrap=True, max_depth=8, max_features=auto, min_samples_leaf=4, min_samples_split=12, n_estimators=200; total time=   0.4s\n",
            "[CV] END bootstrap=True, max_depth=8, max_features=auto, min_samples_leaf=4, min_samples_split=12, n_estimators=500; total time=   0.9s\n",
            "[CV] END bootstrap=True, max_depth=8, max_features=auto, min_samples_leaf=4, min_samples_split=12, n_estimators=500; total time=   0.9s\n",
            "[CV] END bootstrap=True, max_depth=8, max_features=auto, min_samples_leaf=4, min_samples_split=12, n_estimators=500; total time=   0.9s\n",
            "[CV] END bootstrap=True, max_depth=8, max_features=auto, min_samples_leaf=4, min_samples_split=12, n_estimators=500; total time=   0.9s\n",
            "[CV] END bootstrap=True, max_depth=8, max_features=auto, min_samples_leaf=4, min_samples_split=12, n_estimators=500; total time=   1.0s\n",
            "[CV] END bootstrap=True, max_depth=8, max_features=auto, min_samples_leaf=4, min_samples_split=12, n_estimators=1000; total time=   1.9s\n",
            "[CV] END bootstrap=True, max_depth=8, max_features=auto, min_samples_leaf=4, min_samples_split=12, n_estimators=1000; total time=   1.9s\n",
            "[CV] END bootstrap=True, max_depth=8, max_features=auto, min_samples_leaf=4, min_samples_split=12, n_estimators=1000; total time=   1.9s\n",
            "[CV] END bootstrap=True, max_depth=8, max_features=auto, min_samples_leaf=4, min_samples_split=12, n_estimators=1000; total time=   1.9s\n",
            "[CV] END bootstrap=True, max_depth=8, max_features=auto, min_samples_leaf=4, min_samples_split=12, n_estimators=1000; total time=   1.9s\n",
            "[CV] END bootstrap=True, max_depth=8, max_features=auto, min_samples_leaf=4, min_samples_split=14, n_estimators=200; total time=   0.4s\n",
            "[CV] END bootstrap=True, max_depth=8, max_features=auto, min_samples_leaf=4, min_samples_split=14, n_estimators=200; total time=   0.4s\n",
            "[CV] END bootstrap=True, max_depth=8, max_features=auto, min_samples_leaf=4, min_samples_split=14, n_estimators=200; total time=   0.4s\n",
            "[CV] END bootstrap=True, max_depth=8, max_features=auto, min_samples_leaf=4, min_samples_split=14, n_estimators=200; total time=   0.4s\n",
            "[CV] END bootstrap=True, max_depth=8, max_features=auto, min_samples_leaf=4, min_samples_split=14, n_estimators=200; total time=   0.4s\n",
            "[CV] END bootstrap=True, max_depth=8, max_features=auto, min_samples_leaf=4, min_samples_split=14, n_estimators=500; total time=   0.9s\n",
            "[CV] END bootstrap=True, max_depth=8, max_features=auto, min_samples_leaf=4, min_samples_split=14, n_estimators=500; total time=   0.9s\n",
            "[CV] END bootstrap=True, max_depth=8, max_features=auto, min_samples_leaf=4, min_samples_split=14, n_estimators=500; total time=   0.9s\n",
            "[CV] END bootstrap=True, max_depth=8, max_features=auto, min_samples_leaf=4, min_samples_split=14, n_estimators=500; total time=   0.9s\n",
            "[CV] END bootstrap=True, max_depth=8, max_features=auto, min_samples_leaf=4, min_samples_split=14, n_estimators=500; total time=   0.9s\n",
            "[CV] END bootstrap=True, max_depth=8, max_features=auto, min_samples_leaf=4, min_samples_split=14, n_estimators=1000; total time=   1.9s\n",
            "[CV] END bootstrap=True, max_depth=8, max_features=auto, min_samples_leaf=4, min_samples_split=14, n_estimators=1000; total time=   1.9s\n",
            "[CV] END bootstrap=True, max_depth=8, max_features=auto, min_samples_leaf=4, min_samples_split=14, n_estimators=1000; total time=   2.0s\n",
            "[CV] END bootstrap=True, max_depth=8, max_features=auto, min_samples_leaf=4, min_samples_split=14, n_estimators=1000; total time=   1.9s\n",
            "[CV] END bootstrap=True, max_depth=8, max_features=auto, min_samples_leaf=4, min_samples_split=14, n_estimators=1000; total time=   1.9s\n",
            "[CV] END bootstrap=True, max_depth=8, max_features=auto, min_samples_leaf=4, min_samples_split=16, n_estimators=200; total time=   0.4s\n",
            "[CV] END bootstrap=True, max_depth=8, max_features=auto, min_samples_leaf=4, min_samples_split=16, n_estimators=200; total time=   0.4s\n",
            "[CV] END bootstrap=True, max_depth=8, max_features=auto, min_samples_leaf=4, min_samples_split=16, n_estimators=200; total time=   0.4s\n",
            "[CV] END bootstrap=True, max_depth=8, max_features=auto, min_samples_leaf=4, min_samples_split=16, n_estimators=200; total time=   0.4s\n",
            "[CV] END bootstrap=True, max_depth=8, max_features=auto, min_samples_leaf=4, min_samples_split=16, n_estimators=200; total time=   0.4s\n",
            "[CV] END bootstrap=True, max_depth=8, max_features=auto, min_samples_leaf=4, min_samples_split=16, n_estimators=500; total time=   0.9s\n",
            "[CV] END bootstrap=True, max_depth=8, max_features=auto, min_samples_leaf=4, min_samples_split=16, n_estimators=500; total time=   0.9s\n",
            "[CV] END bootstrap=True, max_depth=8, max_features=auto, min_samples_leaf=4, min_samples_split=16, n_estimators=500; total time=   0.9s\n",
            "[CV] END bootstrap=True, max_depth=8, max_features=auto, min_samples_leaf=4, min_samples_split=16, n_estimators=500; total time=   0.9s\n",
            "[CV] END bootstrap=True, max_depth=8, max_features=auto, min_samples_leaf=4, min_samples_split=16, n_estimators=500; total time=   0.9s\n",
            "[CV] END bootstrap=True, max_depth=8, max_features=auto, min_samples_leaf=4, min_samples_split=16, n_estimators=1000; total time=   1.8s\n",
            "[CV] END bootstrap=True, max_depth=8, max_features=auto, min_samples_leaf=4, min_samples_split=16, n_estimators=1000; total time=   1.8s\n",
            "[CV] END bootstrap=True, max_depth=8, max_features=auto, min_samples_leaf=4, min_samples_split=16, n_estimators=1000; total time=   1.9s\n",
            "[CV] END bootstrap=True, max_depth=8, max_features=auto, min_samples_leaf=4, min_samples_split=16, n_estimators=1000; total time=   1.9s\n",
            "[CV] END bootstrap=True, max_depth=8, max_features=auto, min_samples_leaf=4, min_samples_split=16, n_estimators=1000; total time=   1.9s\n",
            "[CV] END bootstrap=True, max_depth=8, max_features=auto, min_samples_leaf=6, min_samples_split=10, n_estimators=200; total time=   0.4s\n",
            "[CV] END bootstrap=True, max_depth=8, max_features=auto, min_samples_leaf=6, min_samples_split=10, n_estimators=200; total time=   0.4s\n",
            "[CV] END bootstrap=True, max_depth=8, max_features=auto, min_samples_leaf=6, min_samples_split=10, n_estimators=200; total time=   0.4s\n",
            "[CV] END bootstrap=True, max_depth=8, max_features=auto, min_samples_leaf=6, min_samples_split=10, n_estimators=200; total time=   0.4s\n",
            "[CV] END bootstrap=True, max_depth=8, max_features=auto, min_samples_leaf=6, min_samples_split=10, n_estimators=200; total time=   0.4s\n",
            "[CV] END bootstrap=True, max_depth=8, max_features=auto, min_samples_leaf=6, min_samples_split=10, n_estimators=500; total time=   0.9s\n",
            "[CV] END bootstrap=True, max_depth=8, max_features=auto, min_samples_leaf=6, min_samples_split=10, n_estimators=500; total time=   0.9s\n",
            "[CV] END bootstrap=True, max_depth=8, max_features=auto, min_samples_leaf=6, min_samples_split=10, n_estimators=500; total time=   0.9s\n",
            "[CV] END bootstrap=True, max_depth=8, max_features=auto, min_samples_leaf=6, min_samples_split=10, n_estimators=500; total time=   0.9s\n",
            "[CV] END bootstrap=True, max_depth=8, max_features=auto, min_samples_leaf=6, min_samples_split=10, n_estimators=500; total time=   0.9s\n",
            "[CV] END bootstrap=True, max_depth=8, max_features=auto, min_samples_leaf=6, min_samples_split=10, n_estimators=1000; total time=   1.9s\n",
            "[CV] END bootstrap=True, max_depth=8, max_features=auto, min_samples_leaf=6, min_samples_split=10, n_estimators=1000; total time=   1.9s\n",
            "[CV] END bootstrap=True, max_depth=8, max_features=auto, min_samples_leaf=6, min_samples_split=10, n_estimators=1000; total time=   1.9s\n",
            "[CV] END bootstrap=True, max_depth=8, max_features=auto, min_samples_leaf=6, min_samples_split=10, n_estimators=1000; total time=   1.9s\n",
            "[CV] END bootstrap=True, max_depth=8, max_features=auto, min_samples_leaf=6, min_samples_split=10, n_estimators=1000; total time=   1.9s\n",
            "[CV] END bootstrap=True, max_depth=8, max_features=auto, min_samples_leaf=6, min_samples_split=12, n_estimators=200; total time=   0.4s\n",
            "[CV] END bootstrap=True, max_depth=8, max_features=auto, min_samples_leaf=6, min_samples_split=12, n_estimators=200; total time=   0.4s\n",
            "[CV] END bootstrap=True, max_depth=8, max_features=auto, min_samples_leaf=6, min_samples_split=12, n_estimators=200; total time=   0.4s\n",
            "[CV] END bootstrap=True, max_depth=8, max_features=auto, min_samples_leaf=6, min_samples_split=12, n_estimators=200; total time=   0.4s\n",
            "[CV] END bootstrap=True, max_depth=8, max_features=auto, min_samples_leaf=6, min_samples_split=12, n_estimators=200; total time=   0.4s\n",
            "[CV] END bootstrap=True, max_depth=8, max_features=auto, min_samples_leaf=6, min_samples_split=12, n_estimators=500; total time=   0.9s\n",
            "[CV] END bootstrap=True, max_depth=8, max_features=auto, min_samples_leaf=6, min_samples_split=12, n_estimators=500; total time=   1.0s\n",
            "[CV] END bootstrap=True, max_depth=8, max_features=auto, min_samples_leaf=6, min_samples_split=12, n_estimators=500; total time=   0.9s\n",
            "[CV] END bootstrap=True, max_depth=8, max_features=auto, min_samples_leaf=6, min_samples_split=12, n_estimators=500; total time=   0.9s\n",
            "[CV] END bootstrap=True, max_depth=8, max_features=auto, min_samples_leaf=6, min_samples_split=12, n_estimators=500; total time=   0.9s\n",
            "[CV] END bootstrap=True, max_depth=8, max_features=auto, min_samples_leaf=6, min_samples_split=12, n_estimators=1000; total time=   1.8s\n",
            "[CV] END bootstrap=True, max_depth=8, max_features=auto, min_samples_leaf=6, min_samples_split=12, n_estimators=1000; total time=   1.9s\n",
            "[CV] END bootstrap=True, max_depth=8, max_features=auto, min_samples_leaf=6, min_samples_split=12, n_estimators=1000; total time=   1.9s\n",
            "[CV] END bootstrap=True, max_depth=8, max_features=auto, min_samples_leaf=6, min_samples_split=12, n_estimators=1000; total time=   1.9s\n",
            "[CV] END bootstrap=True, max_depth=8, max_features=auto, min_samples_leaf=6, min_samples_split=12, n_estimators=1000; total time=   1.9s\n",
            "[CV] END bootstrap=True, max_depth=8, max_features=auto, min_samples_leaf=6, min_samples_split=14, n_estimators=200; total time=   0.4s\n",
            "[CV] END bootstrap=True, max_depth=8, max_features=auto, min_samples_leaf=6, min_samples_split=14, n_estimators=200; total time=   0.4s\n",
            "[CV] END bootstrap=True, max_depth=8, max_features=auto, min_samples_leaf=6, min_samples_split=14, n_estimators=200; total time=   0.4s\n",
            "[CV] END bootstrap=True, max_depth=8, max_features=auto, min_samples_leaf=6, min_samples_split=14, n_estimators=200; total time=   0.4s\n",
            "[CV] END bootstrap=True, max_depth=8, max_features=auto, min_samples_leaf=6, min_samples_split=14, n_estimators=200; total time=   0.4s\n",
            "[CV] END bootstrap=True, max_depth=8, max_features=auto, min_samples_leaf=6, min_samples_split=14, n_estimators=500; total time=   0.9s\n",
            "[CV] END bootstrap=True, max_depth=8, max_features=auto, min_samples_leaf=6, min_samples_split=14, n_estimators=500; total time=   0.9s\n",
            "[CV] END bootstrap=True, max_depth=8, max_features=auto, min_samples_leaf=6, min_samples_split=14, n_estimators=500; total time=   0.9s\n",
            "[CV] END bootstrap=True, max_depth=8, max_features=auto, min_samples_leaf=6, min_samples_split=14, n_estimators=500; total time=   0.9s\n",
            "[CV] END bootstrap=True, max_depth=8, max_features=auto, min_samples_leaf=6, min_samples_split=14, n_estimators=500; total time=   0.9s\n",
            "[CV] END bootstrap=True, max_depth=8, max_features=auto, min_samples_leaf=6, min_samples_split=14, n_estimators=1000; total time=   1.9s\n",
            "[CV] END bootstrap=True, max_depth=8, max_features=auto, min_samples_leaf=6, min_samples_split=14, n_estimators=1000; total time=   1.9s\n",
            "[CV] END bootstrap=True, max_depth=8, max_features=auto, min_samples_leaf=6, min_samples_split=14, n_estimators=1000; total time=   1.9s\n",
            "[CV] END bootstrap=True, max_depth=8, max_features=auto, min_samples_leaf=6, min_samples_split=14, n_estimators=1000; total time=   1.9s\n",
            "[CV] END bootstrap=True, max_depth=8, max_features=auto, min_samples_leaf=6, min_samples_split=14, n_estimators=1000; total time=   1.9s\n",
            "[CV] END bootstrap=True, max_depth=8, max_features=auto, min_samples_leaf=6, min_samples_split=16, n_estimators=200; total time=   0.4s\n",
            "[CV] END bootstrap=True, max_depth=8, max_features=auto, min_samples_leaf=6, min_samples_split=16, n_estimators=200; total time=   0.4s\n",
            "[CV] END bootstrap=True, max_depth=8, max_features=auto, min_samples_leaf=6, min_samples_split=16, n_estimators=200; total time=   0.4s\n",
            "[CV] END bootstrap=True, max_depth=8, max_features=auto, min_samples_leaf=6, min_samples_split=16, n_estimators=200; total time=   0.4s\n",
            "[CV] END bootstrap=True, max_depth=8, max_features=auto, min_samples_leaf=6, min_samples_split=16, n_estimators=200; total time=   0.4s\n",
            "[CV] END bootstrap=True, max_depth=8, max_features=auto, min_samples_leaf=6, min_samples_split=16, n_estimators=500; total time=   0.9s\n",
            "[CV] END bootstrap=True, max_depth=8, max_features=auto, min_samples_leaf=6, min_samples_split=16, n_estimators=500; total time=   0.9s\n",
            "[CV] END bootstrap=True, max_depth=8, max_features=auto, min_samples_leaf=6, min_samples_split=16, n_estimators=500; total time=   0.9s\n",
            "[CV] END bootstrap=True, max_depth=8, max_features=auto, min_samples_leaf=6, min_samples_split=16, n_estimators=500; total time=   0.9s\n",
            "[CV] END bootstrap=True, max_depth=8, max_features=auto, min_samples_leaf=6, min_samples_split=16, n_estimators=500; total time=   0.9s\n",
            "[CV] END bootstrap=True, max_depth=8, max_features=auto, min_samples_leaf=6, min_samples_split=16, n_estimators=1000; total time=   1.8s\n",
            "[CV] END bootstrap=True, max_depth=8, max_features=auto, min_samples_leaf=6, min_samples_split=16, n_estimators=1000; total time=   1.8s\n",
            "[CV] END bootstrap=True, max_depth=8, max_features=auto, min_samples_leaf=6, min_samples_split=16, n_estimators=1000; total time=   1.8s\n",
            "[CV] END bootstrap=True, max_depth=8, max_features=auto, min_samples_leaf=6, min_samples_split=16, n_estimators=1000; total time=   1.8s\n",
            "[CV] END bootstrap=True, max_depth=8, max_features=auto, min_samples_leaf=6, min_samples_split=16, n_estimators=1000; total time=   1.8s\n",
            "[CV] END bootstrap=True, max_depth=10, max_features=auto, min_samples_leaf=2, min_samples_split=10, n_estimators=200; total time=   0.4s\n",
            "[CV] END bootstrap=True, max_depth=10, max_features=auto, min_samples_leaf=2, min_samples_split=10, n_estimators=200; total time=   0.4s\n",
            "[CV] END bootstrap=True, max_depth=10, max_features=auto, min_samples_leaf=2, min_samples_split=10, n_estimators=200; total time=   0.4s\n",
            "[CV] END bootstrap=True, max_depth=10, max_features=auto, min_samples_leaf=2, min_samples_split=10, n_estimators=200; total time=   0.4s\n",
            "[CV] END bootstrap=True, max_depth=10, max_features=auto, min_samples_leaf=2, min_samples_split=10, n_estimators=200; total time=   0.4s\n",
            "[CV] END bootstrap=True, max_depth=10, max_features=auto, min_samples_leaf=2, min_samples_split=10, n_estimators=500; total time=   1.0s\n",
            "[CV] END bootstrap=True, max_depth=10, max_features=auto, min_samples_leaf=2, min_samples_split=10, n_estimators=500; total time=   1.0s\n",
            "[CV] END bootstrap=True, max_depth=10, max_features=auto, min_samples_leaf=2, min_samples_split=10, n_estimators=500; total time=   1.0s\n",
            "[CV] END bootstrap=True, max_depth=10, max_features=auto, min_samples_leaf=2, min_samples_split=10, n_estimators=500; total time=   1.0s\n",
            "[CV] END bootstrap=True, max_depth=10, max_features=auto, min_samples_leaf=2, min_samples_split=10, n_estimators=500; total time=   1.0s\n",
            "[CV] END bootstrap=True, max_depth=10, max_features=auto, min_samples_leaf=2, min_samples_split=10, n_estimators=1000; total time=   2.0s\n",
            "[CV] END bootstrap=True, max_depth=10, max_features=auto, min_samples_leaf=2, min_samples_split=10, n_estimators=1000; total time=   2.0s\n",
            "[CV] END bootstrap=True, max_depth=10, max_features=auto, min_samples_leaf=2, min_samples_split=10, n_estimators=1000; total time=   2.0s\n",
            "[CV] END bootstrap=True, max_depth=10, max_features=auto, min_samples_leaf=2, min_samples_split=10, n_estimators=1000; total time=   2.1s\n",
            "[CV] END bootstrap=True, max_depth=10, max_features=auto, min_samples_leaf=2, min_samples_split=10, n_estimators=1000; total time=   2.0s\n",
            "[CV] END bootstrap=True, max_depth=10, max_features=auto, min_samples_leaf=2, min_samples_split=12, n_estimators=200; total time=   0.4s\n",
            "[CV] END bootstrap=True, max_depth=10, max_features=auto, min_samples_leaf=2, min_samples_split=12, n_estimators=200; total time=   0.4s\n",
            "[CV] END bootstrap=True, max_depth=10, max_features=auto, min_samples_leaf=2, min_samples_split=12, n_estimators=200; total time=   0.4s\n",
            "[CV] END bootstrap=True, max_depth=10, max_features=auto, min_samples_leaf=2, min_samples_split=12, n_estimators=200; total time=   0.4s\n",
            "[CV] END bootstrap=True, max_depth=10, max_features=auto, min_samples_leaf=2, min_samples_split=12, n_estimators=200; total time=   0.4s\n",
            "[CV] END bootstrap=True, max_depth=10, max_features=auto, min_samples_leaf=2, min_samples_split=12, n_estimators=500; total time=   1.0s\n",
            "[CV] END bootstrap=True, max_depth=10, max_features=auto, min_samples_leaf=2, min_samples_split=12, n_estimators=500; total time=   1.0s\n",
            "[CV] END bootstrap=True, max_depth=10, max_features=auto, min_samples_leaf=2, min_samples_split=12, n_estimators=500; total time=   1.0s\n",
            "[CV] END bootstrap=True, max_depth=10, max_features=auto, min_samples_leaf=2, min_samples_split=12, n_estimators=500; total time=   1.0s\n",
            "[CV] END bootstrap=True, max_depth=10, max_features=auto, min_samples_leaf=2, min_samples_split=12, n_estimators=500; total time=   1.0s\n",
            "[CV] END bootstrap=True, max_depth=10, max_features=auto, min_samples_leaf=2, min_samples_split=12, n_estimators=1000; total time=   2.0s\n",
            "[CV] END bootstrap=True, max_depth=10, max_features=auto, min_samples_leaf=2, min_samples_split=12, n_estimators=1000; total time=   2.0s\n",
            "[CV] END bootstrap=True, max_depth=10, max_features=auto, min_samples_leaf=2, min_samples_split=12, n_estimators=1000; total time=   2.0s\n",
            "[CV] END bootstrap=True, max_depth=10, max_features=auto, min_samples_leaf=2, min_samples_split=12, n_estimators=1000; total time=   2.0s\n",
            "[CV] END bootstrap=True, max_depth=10, max_features=auto, min_samples_leaf=2, min_samples_split=12, n_estimators=1000; total time=   2.0s\n",
            "[CV] END bootstrap=True, max_depth=10, max_features=auto, min_samples_leaf=2, min_samples_split=14, n_estimators=200; total time=   0.4s\n",
            "[CV] END bootstrap=True, max_depth=10, max_features=auto, min_samples_leaf=2, min_samples_split=14, n_estimators=200; total time=   0.4s\n",
            "[CV] END bootstrap=True, max_depth=10, max_features=auto, min_samples_leaf=2, min_samples_split=14, n_estimators=200; total time=   0.4s\n",
            "[CV] END bootstrap=True, max_depth=10, max_features=auto, min_samples_leaf=2, min_samples_split=14, n_estimators=200; total time=   0.4s\n",
            "[CV] END bootstrap=True, max_depth=10, max_features=auto, min_samples_leaf=2, min_samples_split=14, n_estimators=200; total time=   0.4s\n",
            "[CV] END bootstrap=True, max_depth=10, max_features=auto, min_samples_leaf=2, min_samples_split=14, n_estimators=500; total time=   1.0s\n",
            "[CV] END bootstrap=True, max_depth=10, max_features=auto, min_samples_leaf=2, min_samples_split=14, n_estimators=500; total time=   1.0s\n",
            "[CV] END bootstrap=True, max_depth=10, max_features=auto, min_samples_leaf=2, min_samples_split=14, n_estimators=500; total time=   1.0s\n",
            "[CV] END bootstrap=True, max_depth=10, max_features=auto, min_samples_leaf=2, min_samples_split=14, n_estimators=500; total time=   1.0s\n",
            "[CV] END bootstrap=True, max_depth=10, max_features=auto, min_samples_leaf=2, min_samples_split=14, n_estimators=500; total time=   1.0s\n",
            "[CV] END bootstrap=True, max_depth=10, max_features=auto, min_samples_leaf=2, min_samples_split=14, n_estimators=1000; total time=   1.9s\n",
            "[CV] END bootstrap=True, max_depth=10, max_features=auto, min_samples_leaf=2, min_samples_split=14, n_estimators=1000; total time=   1.9s\n",
            "[CV] END bootstrap=True, max_depth=10, max_features=auto, min_samples_leaf=2, min_samples_split=14, n_estimators=1000; total time=   2.0s\n",
            "[CV] END bootstrap=True, max_depth=10, max_features=auto, min_samples_leaf=2, min_samples_split=14, n_estimators=1000; total time=   2.0s\n",
            "[CV] END bootstrap=True, max_depth=10, max_features=auto, min_samples_leaf=2, min_samples_split=14, n_estimators=1000; total time=   1.9s\n",
            "[CV] END bootstrap=True, max_depth=10, max_features=auto, min_samples_leaf=2, min_samples_split=16, n_estimators=200; total time=   0.4s\n",
            "[CV] END bootstrap=True, max_depth=10, max_features=auto, min_samples_leaf=2, min_samples_split=16, n_estimators=200; total time=   0.4s\n",
            "[CV] END bootstrap=True, max_depth=10, max_features=auto, min_samples_leaf=2, min_samples_split=16, n_estimators=200; total time=   0.4s\n",
            "[CV] END bootstrap=True, max_depth=10, max_features=auto, min_samples_leaf=2, min_samples_split=16, n_estimators=200; total time=   0.4s\n",
            "[CV] END bootstrap=True, max_depth=10, max_features=auto, min_samples_leaf=2, min_samples_split=16, n_estimators=200; total time=   0.4s\n",
            "[CV] END bootstrap=True, max_depth=10, max_features=auto, min_samples_leaf=2, min_samples_split=16, n_estimators=500; total time=   1.0s\n",
            "[CV] END bootstrap=True, max_depth=10, max_features=auto, min_samples_leaf=2, min_samples_split=16, n_estimators=500; total time=   1.0s\n",
            "[CV] END bootstrap=True, max_depth=10, max_features=auto, min_samples_leaf=2, min_samples_split=16, n_estimators=500; total time=   1.0s\n",
            "[CV] END bootstrap=True, max_depth=10, max_features=auto, min_samples_leaf=2, min_samples_split=16, n_estimators=500; total time=   1.0s\n",
            "[CV] END bootstrap=True, max_depth=10, max_features=auto, min_samples_leaf=2, min_samples_split=16, n_estimators=500; total time=   1.0s\n",
            "[CV] END bootstrap=True, max_depth=10, max_features=auto, min_samples_leaf=2, min_samples_split=16, n_estimators=1000; total time=   1.9s\n",
            "[CV] END bootstrap=True, max_depth=10, max_features=auto, min_samples_leaf=2, min_samples_split=16, n_estimators=1000; total time=   1.9s\n",
            "[CV] END bootstrap=True, max_depth=10, max_features=auto, min_samples_leaf=2, min_samples_split=16, n_estimators=1000; total time=   1.9s\n",
            "[CV] END bootstrap=True, max_depth=10, max_features=auto, min_samples_leaf=2, min_samples_split=16, n_estimators=1000; total time=   1.9s\n",
            "[CV] END bootstrap=True, max_depth=10, max_features=auto, min_samples_leaf=2, min_samples_split=16, n_estimators=1000; total time=   2.0s\n",
            "[CV] END bootstrap=True, max_depth=10, max_features=auto, min_samples_leaf=4, min_samples_split=10, n_estimators=200; total time=   0.4s\n",
            "[CV] END bootstrap=True, max_depth=10, max_features=auto, min_samples_leaf=4, min_samples_split=10, n_estimators=200; total time=   0.4s\n",
            "[CV] END bootstrap=True, max_depth=10, max_features=auto, min_samples_leaf=4, min_samples_split=10, n_estimators=200; total time=   0.4s\n",
            "[CV] END bootstrap=True, max_depth=10, max_features=auto, min_samples_leaf=4, min_samples_split=10, n_estimators=200; total time=   0.4s\n",
            "[CV] END bootstrap=True, max_depth=10, max_features=auto, min_samples_leaf=4, min_samples_split=10, n_estimators=200; total time=   0.4s\n",
            "[CV] END bootstrap=True, max_depth=10, max_features=auto, min_samples_leaf=4, min_samples_split=10, n_estimators=500; total time=   1.0s\n",
            "[CV] END bootstrap=True, max_depth=10, max_features=auto, min_samples_leaf=4, min_samples_split=10, n_estimators=500; total time=   1.0s\n",
            "[CV] END bootstrap=True, max_depth=10, max_features=auto, min_samples_leaf=4, min_samples_split=10, n_estimators=500; total time=   1.0s\n",
            "[CV] END bootstrap=True, max_depth=10, max_features=auto, min_samples_leaf=4, min_samples_split=10, n_estimators=500; total time=   1.0s\n",
            "[CV] END bootstrap=True, max_depth=10, max_features=auto, min_samples_leaf=4, min_samples_split=10, n_estimators=500; total time=   1.0s\n",
            "[CV] END bootstrap=True, max_depth=10, max_features=auto, min_samples_leaf=4, min_samples_split=10, n_estimators=1000; total time=   2.0s\n",
            "[CV] END bootstrap=True, max_depth=10, max_features=auto, min_samples_leaf=4, min_samples_split=10, n_estimators=1000; total time=   2.0s\n",
            "[CV] END bootstrap=True, max_depth=10, max_features=auto, min_samples_leaf=4, min_samples_split=10, n_estimators=1000; total time=   2.0s\n",
            "[CV] END bootstrap=True, max_depth=10, max_features=auto, min_samples_leaf=4, min_samples_split=10, n_estimators=1000; total time=   2.0s\n",
            "[CV] END bootstrap=True, max_depth=10, max_features=auto, min_samples_leaf=4, min_samples_split=10, n_estimators=1000; total time=   2.0s\n",
            "[CV] END bootstrap=True, max_depth=10, max_features=auto, min_samples_leaf=4, min_samples_split=12, n_estimators=200; total time=   0.4s\n",
            "[CV] END bootstrap=True, max_depth=10, max_features=auto, min_samples_leaf=4, min_samples_split=12, n_estimators=200; total time=   0.4s\n",
            "[CV] END bootstrap=True, max_depth=10, max_features=auto, min_samples_leaf=4, min_samples_split=12, n_estimators=200; total time=   0.4s\n",
            "[CV] END bootstrap=True, max_depth=10, max_features=auto, min_samples_leaf=4, min_samples_split=12, n_estimators=200; total time=   0.4s\n",
            "[CV] END bootstrap=True, max_depth=10, max_features=auto, min_samples_leaf=4, min_samples_split=12, n_estimators=200; total time=   0.4s\n",
            "[CV] END bootstrap=True, max_depth=10, max_features=auto, min_samples_leaf=4, min_samples_split=12, n_estimators=500; total time=   1.0s\n",
            "[CV] END bootstrap=True, max_depth=10, max_features=auto, min_samples_leaf=4, min_samples_split=12, n_estimators=500; total time=   1.0s\n",
            "[CV] END bootstrap=True, max_depth=10, max_features=auto, min_samples_leaf=4, min_samples_split=12, n_estimators=500; total time=   1.0s\n",
            "[CV] END bootstrap=True, max_depth=10, max_features=auto, min_samples_leaf=4, min_samples_split=12, n_estimators=500; total time=   1.0s\n",
            "[CV] END bootstrap=True, max_depth=10, max_features=auto, min_samples_leaf=4, min_samples_split=12, n_estimators=500; total time=   1.0s\n",
            "[CV] END bootstrap=True, max_depth=10, max_features=auto, min_samples_leaf=4, min_samples_split=12, n_estimators=1000; total time=   1.9s\n",
            "[CV] END bootstrap=True, max_depth=10, max_features=auto, min_samples_leaf=4, min_samples_split=12, n_estimators=1000; total time=   1.9s\n",
            "[CV] END bootstrap=True, max_depth=10, max_features=auto, min_samples_leaf=4, min_samples_split=12, n_estimators=1000; total time=   1.9s\n",
            "[CV] END bootstrap=True, max_depth=10, max_features=auto, min_samples_leaf=4, min_samples_split=12, n_estimators=1000; total time=   2.0s\n",
            "[CV] END bootstrap=True, max_depth=10, max_features=auto, min_samples_leaf=4, min_samples_split=12, n_estimators=1000; total time=   2.0s\n",
            "[CV] END bootstrap=True, max_depth=10, max_features=auto, min_samples_leaf=4, min_samples_split=14, n_estimators=200; total time=   0.4s\n",
            "[CV] END bootstrap=True, max_depth=10, max_features=auto, min_samples_leaf=4, min_samples_split=14, n_estimators=200; total time=   0.4s\n",
            "[CV] END bootstrap=True, max_depth=10, max_features=auto, min_samples_leaf=4, min_samples_split=14, n_estimators=200; total time=   0.4s\n",
            "[CV] END bootstrap=True, max_depth=10, max_features=auto, min_samples_leaf=4, min_samples_split=14, n_estimators=200; total time=   0.4s\n",
            "[CV] END bootstrap=True, max_depth=10, max_features=auto, min_samples_leaf=4, min_samples_split=14, n_estimators=200; total time=   0.4s\n",
            "[CV] END bootstrap=True, max_depth=10, max_features=auto, min_samples_leaf=4, min_samples_split=14, n_estimators=500; total time=   1.0s\n",
            "[CV] END bootstrap=True, max_depth=10, max_features=auto, min_samples_leaf=4, min_samples_split=14, n_estimators=500; total time=   1.0s\n",
            "[CV] END bootstrap=True, max_depth=10, max_features=auto, min_samples_leaf=4, min_samples_split=14, n_estimators=500; total time=   1.0s\n",
            "[CV] END bootstrap=True, max_depth=10, max_features=auto, min_samples_leaf=4, min_samples_split=14, n_estimators=500; total time=   1.0s\n",
            "[CV] END bootstrap=True, max_depth=10, max_features=auto, min_samples_leaf=4, min_samples_split=14, n_estimators=500; total time=   1.0s\n",
            "[CV] END bootstrap=True, max_depth=10, max_features=auto, min_samples_leaf=4, min_samples_split=14, n_estimators=1000; total time=   1.9s\n",
            "[CV] END bootstrap=True, max_depth=10, max_features=auto, min_samples_leaf=4, min_samples_split=14, n_estimators=1000; total time=   1.9s\n",
            "[CV] END bootstrap=True, max_depth=10, max_features=auto, min_samples_leaf=4, min_samples_split=14, n_estimators=1000; total time=   1.9s\n",
            "[CV] END bootstrap=True, max_depth=10, max_features=auto, min_samples_leaf=4, min_samples_split=14, n_estimators=1000; total time=   1.9s\n",
            "[CV] END bootstrap=True, max_depth=10, max_features=auto, min_samples_leaf=4, min_samples_split=14, n_estimators=1000; total time=   1.9s\n",
            "[CV] END bootstrap=True, max_depth=10, max_features=auto, min_samples_leaf=4, min_samples_split=16, n_estimators=200; total time=   0.4s\n",
            "[CV] END bootstrap=True, max_depth=10, max_features=auto, min_samples_leaf=4, min_samples_split=16, n_estimators=200; total time=   0.4s\n",
            "[CV] END bootstrap=True, max_depth=10, max_features=auto, min_samples_leaf=4, min_samples_split=16, n_estimators=200; total time=   0.4s\n",
            "[CV] END bootstrap=True, max_depth=10, max_features=auto, min_samples_leaf=4, min_samples_split=16, n_estimators=200; total time=   0.4s\n",
            "[CV] END bootstrap=True, max_depth=10, max_features=auto, min_samples_leaf=4, min_samples_split=16, n_estimators=200; total time=   0.4s\n",
            "[CV] END bootstrap=True, max_depth=10, max_features=auto, min_samples_leaf=4, min_samples_split=16, n_estimators=500; total time=   1.0s\n",
            "[CV] END bootstrap=True, max_depth=10, max_features=auto, min_samples_leaf=4, min_samples_split=16, n_estimators=500; total time=   0.9s\n",
            "[CV] END bootstrap=True, max_depth=10, max_features=auto, min_samples_leaf=4, min_samples_split=16, n_estimators=500; total time=   1.0s\n",
            "[CV] END bootstrap=True, max_depth=10, max_features=auto, min_samples_leaf=4, min_samples_split=16, n_estimators=500; total time=   1.0s\n",
            "[CV] END bootstrap=True, max_depth=10, max_features=auto, min_samples_leaf=4, min_samples_split=16, n_estimators=500; total time=   0.9s\n",
            "[CV] END bootstrap=True, max_depth=10, max_features=auto, min_samples_leaf=4, min_samples_split=16, n_estimators=1000; total time=   1.9s\n",
            "[CV] END bootstrap=True, max_depth=10, max_features=auto, min_samples_leaf=4, min_samples_split=16, n_estimators=1000; total time=   2.0s\n",
            "[CV] END bootstrap=True, max_depth=10, max_features=auto, min_samples_leaf=4, min_samples_split=16, n_estimators=1000; total time=   1.9s\n",
            "[CV] END bootstrap=True, max_depth=10, max_features=auto, min_samples_leaf=4, min_samples_split=16, n_estimators=1000; total time=   1.9s\n",
            "[CV] END bootstrap=True, max_depth=10, max_features=auto, min_samples_leaf=4, min_samples_split=16, n_estimators=1000; total time=   1.9s\n",
            "[CV] END bootstrap=True, max_depth=10, max_features=auto, min_samples_leaf=6, min_samples_split=10, n_estimators=200; total time=   0.4s\n",
            "[CV] END bootstrap=True, max_depth=10, max_features=auto, min_samples_leaf=6, min_samples_split=10, n_estimators=200; total time=   0.4s\n",
            "[CV] END bootstrap=True, max_depth=10, max_features=auto, min_samples_leaf=6, min_samples_split=10, n_estimators=200; total time=   0.4s\n",
            "[CV] END bootstrap=True, max_depth=10, max_features=auto, min_samples_leaf=6, min_samples_split=10, n_estimators=200; total time=   0.4s\n",
            "[CV] END bootstrap=True, max_depth=10, max_features=auto, min_samples_leaf=6, min_samples_split=10, n_estimators=200; total time=   0.4s\n",
            "[CV] END bootstrap=True, max_depth=10, max_features=auto, min_samples_leaf=6, min_samples_split=10, n_estimators=500; total time=   1.0s\n",
            "[CV] END bootstrap=True, max_depth=10, max_features=auto, min_samples_leaf=6, min_samples_split=10, n_estimators=500; total time=   0.9s\n",
            "[CV] END bootstrap=True, max_depth=10, max_features=auto, min_samples_leaf=6, min_samples_split=10, n_estimators=500; total time=   1.0s\n",
            "[CV] END bootstrap=True, max_depth=10, max_features=auto, min_samples_leaf=6, min_samples_split=10, n_estimators=500; total time=   1.0s\n",
            "[CV] END bootstrap=True, max_depth=10, max_features=auto, min_samples_leaf=6, min_samples_split=10, n_estimators=500; total time=   1.0s\n",
            "[CV] END bootstrap=True, max_depth=10, max_features=auto, min_samples_leaf=6, min_samples_split=10, n_estimators=1000; total time=   1.9s\n",
            "[CV] END bootstrap=True, max_depth=10, max_features=auto, min_samples_leaf=6, min_samples_split=10, n_estimators=1000; total time=   1.9s\n",
            "[CV] END bootstrap=True, max_depth=10, max_features=auto, min_samples_leaf=6, min_samples_split=10, n_estimators=1000; total time=   1.9s\n",
            "[CV] END bootstrap=True, max_depth=10, max_features=auto, min_samples_leaf=6, min_samples_split=10, n_estimators=1000; total time=   1.9s\n",
            "[CV] END bootstrap=True, max_depth=10, max_features=auto, min_samples_leaf=6, min_samples_split=10, n_estimators=1000; total time=   1.9s\n",
            "[CV] END bootstrap=True, max_depth=10, max_features=auto, min_samples_leaf=6, min_samples_split=12, n_estimators=200; total time=   0.4s\n",
            "[CV] END bootstrap=True, max_depth=10, max_features=auto, min_samples_leaf=6, min_samples_split=12, n_estimators=200; total time=   0.4s\n",
            "[CV] END bootstrap=True, max_depth=10, max_features=auto, min_samples_leaf=6, min_samples_split=12, n_estimators=200; total time=   0.4s\n",
            "[CV] END bootstrap=True, max_depth=10, max_features=auto, min_samples_leaf=6, min_samples_split=12, n_estimators=200; total time=   0.4s\n",
            "[CV] END bootstrap=True, max_depth=10, max_features=auto, min_samples_leaf=6, min_samples_split=12, n_estimators=200; total time=   0.4s\n",
            "[CV] END bootstrap=True, max_depth=10, max_features=auto, min_samples_leaf=6, min_samples_split=12, n_estimators=500; total time=   1.0s\n",
            "[CV] END bootstrap=True, max_depth=10, max_features=auto, min_samples_leaf=6, min_samples_split=12, n_estimators=500; total time=   1.0s\n",
            "[CV] END bootstrap=True, max_depth=10, max_features=auto, min_samples_leaf=6, min_samples_split=12, n_estimators=500; total time=   1.0s\n",
            "[CV] END bootstrap=True, max_depth=10, max_features=auto, min_samples_leaf=6, min_samples_split=12, n_estimators=500; total time=   1.0s\n",
            "[CV] END bootstrap=True, max_depth=10, max_features=auto, min_samples_leaf=6, min_samples_split=12, n_estimators=500; total time=   1.0s\n",
            "[CV] END bootstrap=True, max_depth=10, max_features=auto, min_samples_leaf=6, min_samples_split=12, n_estimators=1000; total time=   1.9s\n",
            "[CV] END bootstrap=True, max_depth=10, max_features=auto, min_samples_leaf=6, min_samples_split=12, n_estimators=1000; total time=   1.9s\n",
            "[CV] END bootstrap=True, max_depth=10, max_features=auto, min_samples_leaf=6, min_samples_split=12, n_estimators=1000; total time=   1.9s\n",
            "[CV] END bootstrap=True, max_depth=10, max_features=auto, min_samples_leaf=6, min_samples_split=12, n_estimators=1000; total time=   1.9s\n",
            "[CV] END bootstrap=True, max_depth=10, max_features=auto, min_samples_leaf=6, min_samples_split=12, n_estimators=1000; total time=   1.9s\n",
            "[CV] END bootstrap=True, max_depth=10, max_features=auto, min_samples_leaf=6, min_samples_split=14, n_estimators=200; total time=   0.4s\n",
            "[CV] END bootstrap=True, max_depth=10, max_features=auto, min_samples_leaf=6, min_samples_split=14, n_estimators=200; total time=   0.4s\n",
            "[CV] END bootstrap=True, max_depth=10, max_features=auto, min_samples_leaf=6, min_samples_split=14, n_estimators=200; total time=   0.4s\n",
            "[CV] END bootstrap=True, max_depth=10, max_features=auto, min_samples_leaf=6, min_samples_split=14, n_estimators=200; total time=   0.4s\n",
            "[CV] END bootstrap=True, max_depth=10, max_features=auto, min_samples_leaf=6, min_samples_split=14, n_estimators=200; total time=   0.4s\n",
            "[CV] END bootstrap=True, max_depth=10, max_features=auto, min_samples_leaf=6, min_samples_split=14, n_estimators=500; total time=   1.0s\n",
            "[CV] END bootstrap=True, max_depth=10, max_features=auto, min_samples_leaf=6, min_samples_split=14, n_estimators=500; total time=   0.9s\n",
            "[CV] END bootstrap=True, max_depth=10, max_features=auto, min_samples_leaf=6, min_samples_split=14, n_estimators=500; total time=   0.9s\n",
            "[CV] END bootstrap=True, max_depth=10, max_features=auto, min_samples_leaf=6, min_samples_split=14, n_estimators=500; total time=   0.9s\n",
            "[CV] END bootstrap=True, max_depth=10, max_features=auto, min_samples_leaf=6, min_samples_split=14, n_estimators=500; total time=   0.9s\n",
            "[CV] END bootstrap=True, max_depth=10, max_features=auto, min_samples_leaf=6, min_samples_split=14, n_estimators=1000; total time=   1.9s\n",
            "[CV] END bootstrap=True, max_depth=10, max_features=auto, min_samples_leaf=6, min_samples_split=14, n_estimators=1000; total time=   1.9s\n",
            "[CV] END bootstrap=True, max_depth=10, max_features=auto, min_samples_leaf=6, min_samples_split=14, n_estimators=1000; total time=   1.9s\n",
            "[CV] END bootstrap=True, max_depth=10, max_features=auto, min_samples_leaf=6, min_samples_split=14, n_estimators=1000; total time=   1.9s\n",
            "[CV] END bootstrap=True, max_depth=10, max_features=auto, min_samples_leaf=6, min_samples_split=14, n_estimators=1000; total time=   1.9s\n",
            "[CV] END bootstrap=True, max_depth=10, max_features=auto, min_samples_leaf=6, min_samples_split=16, n_estimators=200; total time=   0.4s\n",
            "[CV] END bootstrap=True, max_depth=10, max_features=auto, min_samples_leaf=6, min_samples_split=16, n_estimators=200; total time=   0.4s\n",
            "[CV] END bootstrap=True, max_depth=10, max_features=auto, min_samples_leaf=6, min_samples_split=16, n_estimators=200; total time=   0.4s\n",
            "[CV] END bootstrap=True, max_depth=10, max_features=auto, min_samples_leaf=6, min_samples_split=16, n_estimators=200; total time=   0.4s\n",
            "[CV] END bootstrap=True, max_depth=10, max_features=auto, min_samples_leaf=6, min_samples_split=16, n_estimators=200; total time=   0.4s\n",
            "[CV] END bootstrap=True, max_depth=10, max_features=auto, min_samples_leaf=6, min_samples_split=16, n_estimators=500; total time=   0.9s\n",
            "[CV] END bootstrap=True, max_depth=10, max_features=auto, min_samples_leaf=6, min_samples_split=16, n_estimators=500; total time=   1.0s\n",
            "[CV] END bootstrap=True, max_depth=10, max_features=auto, min_samples_leaf=6, min_samples_split=16, n_estimators=500; total time=   0.9s\n",
            "[CV] END bootstrap=True, max_depth=10, max_features=auto, min_samples_leaf=6, min_samples_split=16, n_estimators=500; total time=   1.0s\n",
            "[CV] END bootstrap=True, max_depth=10, max_features=auto, min_samples_leaf=6, min_samples_split=16, n_estimators=500; total time=   0.9s\n",
            "[CV] END bootstrap=True, max_depth=10, max_features=auto, min_samples_leaf=6, min_samples_split=16, n_estimators=1000; total time=   1.9s\n",
            "[CV] END bootstrap=True, max_depth=10, max_features=auto, min_samples_leaf=6, min_samples_split=16, n_estimators=1000; total time=   1.9s\n",
            "[CV] END bootstrap=True, max_depth=10, max_features=auto, min_samples_leaf=6, min_samples_split=16, n_estimators=1000; total time=   1.9s\n",
            "[CV] END bootstrap=True, max_depth=10, max_features=auto, min_samples_leaf=6, min_samples_split=16, n_estimators=1000; total time=   1.9s\n",
            "[CV] END bootstrap=True, max_depth=10, max_features=auto, min_samples_leaf=6, min_samples_split=16, n_estimators=1000; total time=   1.9s\n",
            "[CV] END bootstrap=True, max_depth=12, max_features=auto, min_samples_leaf=2, min_samples_split=10, n_estimators=200; total time=   0.4s\n",
            "[CV] END bootstrap=True, max_depth=12, max_features=auto, min_samples_leaf=2, min_samples_split=10, n_estimators=200; total time=   0.4s\n",
            "[CV] END bootstrap=True, max_depth=12, max_features=auto, min_samples_leaf=2, min_samples_split=10, n_estimators=200; total time=   0.4s\n",
            "[CV] END bootstrap=True, max_depth=12, max_features=auto, min_samples_leaf=2, min_samples_split=10, n_estimators=200; total time=   0.4s\n",
            "[CV] END bootstrap=True, max_depth=12, max_features=auto, min_samples_leaf=2, min_samples_split=10, n_estimators=200; total time=   0.4s\n",
            "[CV] END bootstrap=True, max_depth=12, max_features=auto, min_samples_leaf=2, min_samples_split=10, n_estimators=500; total time=   1.0s\n",
            "[CV] END bootstrap=True, max_depth=12, max_features=auto, min_samples_leaf=2, min_samples_split=10, n_estimators=500; total time=   1.0s\n",
            "[CV] END bootstrap=True, max_depth=12, max_features=auto, min_samples_leaf=2, min_samples_split=10, n_estimators=500; total time=   1.0s\n",
            "[CV] END bootstrap=True, max_depth=12, max_features=auto, min_samples_leaf=2, min_samples_split=10, n_estimators=500; total time=   1.0s\n",
            "[CV] END bootstrap=True, max_depth=12, max_features=auto, min_samples_leaf=2, min_samples_split=10, n_estimators=500; total time=   1.0s\n",
            "[CV] END bootstrap=True, max_depth=12, max_features=auto, min_samples_leaf=2, min_samples_split=10, n_estimators=1000; total time=   2.1s\n",
            "[CV] END bootstrap=True, max_depth=12, max_features=auto, min_samples_leaf=2, min_samples_split=10, n_estimators=1000; total time=   2.0s\n",
            "[CV] END bootstrap=True, max_depth=12, max_features=auto, min_samples_leaf=2, min_samples_split=10, n_estimators=1000; total time=   2.1s\n",
            "[CV] END bootstrap=True, max_depth=12, max_features=auto, min_samples_leaf=2, min_samples_split=10, n_estimators=1000; total time=   2.1s\n",
            "[CV] END bootstrap=True, max_depth=12, max_features=auto, min_samples_leaf=2, min_samples_split=10, n_estimators=1000; total time=   2.0s\n",
            "[CV] END bootstrap=True, max_depth=12, max_features=auto, min_samples_leaf=2, min_samples_split=12, n_estimators=200; total time=   0.4s\n",
            "[CV] END bootstrap=True, max_depth=12, max_features=auto, min_samples_leaf=2, min_samples_split=12, n_estimators=200; total time=   0.4s\n",
            "[CV] END bootstrap=True, max_depth=12, max_features=auto, min_samples_leaf=2, min_samples_split=12, n_estimators=200; total time=   0.4s\n",
            "[CV] END bootstrap=True, max_depth=12, max_features=auto, min_samples_leaf=2, min_samples_split=12, n_estimators=200; total time=   0.4s\n",
            "[CV] END bootstrap=True, max_depth=12, max_features=auto, min_samples_leaf=2, min_samples_split=12, n_estimators=200; total time=   0.4s\n",
            "[CV] END bootstrap=True, max_depth=12, max_features=auto, min_samples_leaf=2, min_samples_split=12, n_estimators=500; total time=   1.0s\n",
            "[CV] END bootstrap=True, max_depth=12, max_features=auto, min_samples_leaf=2, min_samples_split=12, n_estimators=500; total time=   1.0s\n",
            "[CV] END bootstrap=True, max_depth=12, max_features=auto, min_samples_leaf=2, min_samples_split=12, n_estimators=500; total time=   1.0s\n",
            "[CV] END bootstrap=True, max_depth=12, max_features=auto, min_samples_leaf=2, min_samples_split=12, n_estimators=500; total time=   1.0s\n",
            "[CV] END bootstrap=True, max_depth=12, max_features=auto, min_samples_leaf=2, min_samples_split=12, n_estimators=500; total time=   1.0s\n",
            "[CV] END bootstrap=True, max_depth=12, max_features=auto, min_samples_leaf=2, min_samples_split=12, n_estimators=1000; total time=   2.0s\n",
            "[CV] END bootstrap=True, max_depth=12, max_features=auto, min_samples_leaf=2, min_samples_split=12, n_estimators=1000; total time=   2.0s\n",
            "[CV] END bootstrap=True, max_depth=12, max_features=auto, min_samples_leaf=2, min_samples_split=12, n_estimators=1000; total time=   2.0s\n",
            "[CV] END bootstrap=True, max_depth=12, max_features=auto, min_samples_leaf=2, min_samples_split=12, n_estimators=1000; total time=   2.0s\n",
            "[CV] END bootstrap=True, max_depth=12, max_features=auto, min_samples_leaf=2, min_samples_split=12, n_estimators=1000; total time=   2.0s\n",
            "[CV] END bootstrap=True, max_depth=12, max_features=auto, min_samples_leaf=2, min_samples_split=14, n_estimators=200; total time=   0.4s\n",
            "[CV] END bootstrap=True, max_depth=12, max_features=auto, min_samples_leaf=2, min_samples_split=14, n_estimators=200; total time=   0.4s\n",
            "[CV] END bootstrap=True, max_depth=12, max_features=auto, min_samples_leaf=2, min_samples_split=14, n_estimators=200; total time=   0.4s\n",
            "[CV] END bootstrap=True, max_depth=12, max_features=auto, min_samples_leaf=2, min_samples_split=14, n_estimators=200; total time=   0.4s\n",
            "[CV] END bootstrap=True, max_depth=12, max_features=auto, min_samples_leaf=2, min_samples_split=14, n_estimators=200; total time=   0.4s\n",
            "[CV] END bootstrap=True, max_depth=12, max_features=auto, min_samples_leaf=2, min_samples_split=14, n_estimators=500; total time=   1.0s\n",
            "[CV] END bootstrap=True, max_depth=12, max_features=auto, min_samples_leaf=2, min_samples_split=14, n_estimators=500; total time=   1.0s\n",
            "[CV] END bootstrap=True, max_depth=12, max_features=auto, min_samples_leaf=2, min_samples_split=14, n_estimators=500; total time=   1.0s\n",
            "[CV] END bootstrap=True, max_depth=12, max_features=auto, min_samples_leaf=2, min_samples_split=14, n_estimators=500; total time=   1.0s\n",
            "[CV] END bootstrap=True, max_depth=12, max_features=auto, min_samples_leaf=2, min_samples_split=14, n_estimators=500; total time=   1.0s\n",
            "[CV] END bootstrap=True, max_depth=12, max_features=auto, min_samples_leaf=2, min_samples_split=14, n_estimators=1000; total time=   2.0s\n",
            "[CV] END bootstrap=True, max_depth=12, max_features=auto, min_samples_leaf=2, min_samples_split=14, n_estimators=1000; total time=   2.0s\n",
            "[CV] END bootstrap=True, max_depth=12, max_features=auto, min_samples_leaf=2, min_samples_split=14, n_estimators=1000; total time=   2.0s\n",
            "[CV] END bootstrap=True, max_depth=12, max_features=auto, min_samples_leaf=2, min_samples_split=14, n_estimators=1000; total time=   2.0s\n",
            "[CV] END bootstrap=True, max_depth=12, max_features=auto, min_samples_leaf=2, min_samples_split=14, n_estimators=1000; total time=   2.0s\n",
            "[CV] END bootstrap=True, max_depth=12, max_features=auto, min_samples_leaf=2, min_samples_split=16, n_estimators=200; total time=   0.4s\n",
            "[CV] END bootstrap=True, max_depth=12, max_features=auto, min_samples_leaf=2, min_samples_split=16, n_estimators=200; total time=   0.4s\n",
            "[CV] END bootstrap=True, max_depth=12, max_features=auto, min_samples_leaf=2, min_samples_split=16, n_estimators=200; total time=   0.4s\n",
            "[CV] END bootstrap=True, max_depth=12, max_features=auto, min_samples_leaf=2, min_samples_split=16, n_estimators=200; total time=   0.4s\n",
            "[CV] END bootstrap=True, max_depth=12, max_features=auto, min_samples_leaf=2, min_samples_split=16, n_estimators=200; total time=   0.4s\n",
            "[CV] END bootstrap=True, max_depth=12, max_features=auto, min_samples_leaf=2, min_samples_split=16, n_estimators=500; total time=   1.0s\n",
            "[CV] END bootstrap=True, max_depth=12, max_features=auto, min_samples_leaf=2, min_samples_split=16, n_estimators=500; total time=   1.0s\n",
            "[CV] END bootstrap=True, max_depth=12, max_features=auto, min_samples_leaf=2, min_samples_split=16, n_estimators=500; total time=   1.0s\n",
            "[CV] END bootstrap=True, max_depth=12, max_features=auto, min_samples_leaf=2, min_samples_split=16, n_estimators=500; total time=   1.0s\n",
            "[CV] END bootstrap=True, max_depth=12, max_features=auto, min_samples_leaf=2, min_samples_split=16, n_estimators=500; total time=   1.0s\n",
            "[CV] END bootstrap=True, max_depth=12, max_features=auto, min_samples_leaf=2, min_samples_split=16, n_estimators=1000; total time=   1.9s\n",
            "[CV] END bootstrap=True, max_depth=12, max_features=auto, min_samples_leaf=2, min_samples_split=16, n_estimators=1000; total time=   1.9s\n",
            "[CV] END bootstrap=True, max_depth=12, max_features=auto, min_samples_leaf=2, min_samples_split=16, n_estimators=1000; total time=   1.9s\n",
            "[CV] END bootstrap=True, max_depth=12, max_features=auto, min_samples_leaf=2, min_samples_split=16, n_estimators=1000; total time=   1.9s\n",
            "[CV] END bootstrap=True, max_depth=12, max_features=auto, min_samples_leaf=2, min_samples_split=16, n_estimators=1000; total time=   1.9s\n",
            "[CV] END bootstrap=True, max_depth=12, max_features=auto, min_samples_leaf=4, min_samples_split=10, n_estimators=200; total time=   0.4s\n",
            "[CV] END bootstrap=True, max_depth=12, max_features=auto, min_samples_leaf=4, min_samples_split=10, n_estimators=200; total time=   0.4s\n",
            "[CV] END bootstrap=True, max_depth=12, max_features=auto, min_samples_leaf=4, min_samples_split=10, n_estimators=200; total time=   0.4s\n",
            "[CV] END bootstrap=True, max_depth=12, max_features=auto, min_samples_leaf=4, min_samples_split=10, n_estimators=200; total time=   0.4s\n",
            "[CV] END bootstrap=True, max_depth=12, max_features=auto, min_samples_leaf=4, min_samples_split=10, n_estimators=200; total time=   0.4s\n",
            "[CV] END bootstrap=True, max_depth=12, max_features=auto, min_samples_leaf=4, min_samples_split=10, n_estimators=500; total time=   1.0s\n",
            "[CV] END bootstrap=True, max_depth=12, max_features=auto, min_samples_leaf=4, min_samples_split=10, n_estimators=500; total time=   1.0s\n",
            "[CV] END bootstrap=True, max_depth=12, max_features=auto, min_samples_leaf=4, min_samples_split=10, n_estimators=500; total time=   1.0s\n",
            "[CV] END bootstrap=True, max_depth=12, max_features=auto, min_samples_leaf=4, min_samples_split=10, n_estimators=500; total time=   1.0s\n",
            "[CV] END bootstrap=True, max_depth=12, max_features=auto, min_samples_leaf=4, min_samples_split=10, n_estimators=500; total time=   1.0s\n",
            "[CV] END bootstrap=True, max_depth=12, max_features=auto, min_samples_leaf=4, min_samples_split=10, n_estimators=1000; total time=   2.0s\n",
            "[CV] END bootstrap=True, max_depth=12, max_features=auto, min_samples_leaf=4, min_samples_split=10, n_estimators=1000; total time=   2.1s\n",
            "[CV] END bootstrap=True, max_depth=12, max_features=auto, min_samples_leaf=4, min_samples_split=10, n_estimators=1000; total time=   2.0s\n",
            "[CV] END bootstrap=True, max_depth=12, max_features=auto, min_samples_leaf=4, min_samples_split=10, n_estimators=1000; total time=   2.0s\n",
            "[CV] END bootstrap=True, max_depth=12, max_features=auto, min_samples_leaf=4, min_samples_split=10, n_estimators=1000; total time=   2.0s\n",
            "[CV] END bootstrap=True, max_depth=12, max_features=auto, min_samples_leaf=4, min_samples_split=12, n_estimators=200; total time=   0.4s\n",
            "[CV] END bootstrap=True, max_depth=12, max_features=auto, min_samples_leaf=4, min_samples_split=12, n_estimators=200; total time=   0.4s\n",
            "[CV] END bootstrap=True, max_depth=12, max_features=auto, min_samples_leaf=4, min_samples_split=12, n_estimators=200; total time=   0.4s\n",
            "[CV] END bootstrap=True, max_depth=12, max_features=auto, min_samples_leaf=4, min_samples_split=12, n_estimators=200; total time=   0.4s\n",
            "[CV] END bootstrap=True, max_depth=12, max_features=auto, min_samples_leaf=4, min_samples_split=12, n_estimators=200; total time=   0.4s\n",
            "[CV] END bootstrap=True, max_depth=12, max_features=auto, min_samples_leaf=4, min_samples_split=12, n_estimators=500; total time=   1.0s\n",
            "[CV] END bootstrap=True, max_depth=12, max_features=auto, min_samples_leaf=4, min_samples_split=12, n_estimators=500; total time=   1.0s\n",
            "[CV] END bootstrap=True, max_depth=12, max_features=auto, min_samples_leaf=4, min_samples_split=12, n_estimators=500; total time=   1.0s\n",
            "[CV] END bootstrap=True, max_depth=12, max_features=auto, min_samples_leaf=4, min_samples_split=12, n_estimators=500; total time=   1.0s\n",
            "[CV] END bootstrap=True, max_depth=12, max_features=auto, min_samples_leaf=4, min_samples_split=12, n_estimators=500; total time=   1.0s\n",
            "[CV] END bootstrap=True, max_depth=12, max_features=auto, min_samples_leaf=4, min_samples_split=12, n_estimators=1000; total time=   1.9s\n",
            "[CV] END bootstrap=True, max_depth=12, max_features=auto, min_samples_leaf=4, min_samples_split=12, n_estimators=1000; total time=   1.9s\n",
            "[CV] END bootstrap=True, max_depth=12, max_features=auto, min_samples_leaf=4, min_samples_split=12, n_estimators=1000; total time=   2.0s\n",
            "[CV] END bootstrap=True, max_depth=12, max_features=auto, min_samples_leaf=4, min_samples_split=12, n_estimators=1000; total time=   2.0s\n",
            "[CV] END bootstrap=True, max_depth=12, max_features=auto, min_samples_leaf=4, min_samples_split=12, n_estimators=1000; total time=   1.9s\n",
            "[CV] END bootstrap=True, max_depth=12, max_features=auto, min_samples_leaf=4, min_samples_split=14, n_estimators=200; total time=   0.4s\n",
            "[CV] END bootstrap=True, max_depth=12, max_features=auto, min_samples_leaf=4, min_samples_split=14, n_estimators=200; total time=   0.4s\n",
            "[CV] END bootstrap=True, max_depth=12, max_features=auto, min_samples_leaf=4, min_samples_split=14, n_estimators=200; total time=   0.4s\n",
            "[CV] END bootstrap=True, max_depth=12, max_features=auto, min_samples_leaf=4, min_samples_split=14, n_estimators=200; total time=   0.4s\n",
            "[CV] END bootstrap=True, max_depth=12, max_features=auto, min_samples_leaf=4, min_samples_split=14, n_estimators=200; total time=   0.4s\n",
            "[CV] END bootstrap=True, max_depth=12, max_features=auto, min_samples_leaf=4, min_samples_split=14, n_estimators=500; total time=   1.0s\n",
            "[CV] END bootstrap=True, max_depth=12, max_features=auto, min_samples_leaf=4, min_samples_split=14, n_estimators=500; total time=   0.9s\n",
            "[CV] END bootstrap=True, max_depth=12, max_features=auto, min_samples_leaf=4, min_samples_split=14, n_estimators=500; total time=   1.0s\n",
            "[CV] END bootstrap=True, max_depth=12, max_features=auto, min_samples_leaf=4, min_samples_split=14, n_estimators=500; total time=   1.0s\n",
            "[CV] END bootstrap=True, max_depth=12, max_features=auto, min_samples_leaf=4, min_samples_split=14, n_estimators=500; total time=   1.0s\n",
            "[CV] END bootstrap=True, max_depth=12, max_features=auto, min_samples_leaf=4, min_samples_split=14, n_estimators=1000; total time=   1.9s\n",
            "[CV] END bootstrap=True, max_depth=12, max_features=auto, min_samples_leaf=4, min_samples_split=14, n_estimators=1000; total time=   1.9s\n",
            "[CV] END bootstrap=True, max_depth=12, max_features=auto, min_samples_leaf=4, min_samples_split=14, n_estimators=1000; total time=   1.9s\n",
            "[CV] END bootstrap=True, max_depth=12, max_features=auto, min_samples_leaf=4, min_samples_split=14, n_estimators=1000; total time=   1.9s\n",
            "[CV] END bootstrap=True, max_depth=12, max_features=auto, min_samples_leaf=4, min_samples_split=14, n_estimators=1000; total time=   1.9s\n",
            "[CV] END bootstrap=True, max_depth=12, max_features=auto, min_samples_leaf=4, min_samples_split=16, n_estimators=200; total time=   0.4s\n",
            "[CV] END bootstrap=True, max_depth=12, max_features=auto, min_samples_leaf=4, min_samples_split=16, n_estimators=200; total time=   0.4s\n",
            "[CV] END bootstrap=True, max_depth=12, max_features=auto, min_samples_leaf=4, min_samples_split=16, n_estimators=200; total time=   0.4s\n",
            "[CV] END bootstrap=True, max_depth=12, max_features=auto, min_samples_leaf=4, min_samples_split=16, n_estimators=200; total time=   0.4s\n",
            "[CV] END bootstrap=True, max_depth=12, max_features=auto, min_samples_leaf=4, min_samples_split=16, n_estimators=200; total time=   0.4s\n",
            "[CV] END bootstrap=True, max_depth=12, max_features=auto, min_samples_leaf=4, min_samples_split=16, n_estimators=500; total time=   0.9s\n",
            "[CV] END bootstrap=True, max_depth=12, max_features=auto, min_samples_leaf=4, min_samples_split=16, n_estimators=500; total time=   0.9s\n",
            "[CV] END bootstrap=True, max_depth=12, max_features=auto, min_samples_leaf=4, min_samples_split=16, n_estimators=500; total time=   1.0s\n",
            "[CV] END bootstrap=True, max_depth=12, max_features=auto, min_samples_leaf=4, min_samples_split=16, n_estimators=500; total time=   1.0s\n",
            "[CV] END bootstrap=True, max_depth=12, max_features=auto, min_samples_leaf=4, min_samples_split=16, n_estimators=500; total time=   0.9s\n",
            "[CV] END bootstrap=True, max_depth=12, max_features=auto, min_samples_leaf=4, min_samples_split=16, n_estimators=1000; total time=   1.9s\n",
            "[CV] END bootstrap=True, max_depth=12, max_features=auto, min_samples_leaf=4, min_samples_split=16, n_estimators=1000; total time=   1.9s\n",
            "[CV] END bootstrap=True, max_depth=12, max_features=auto, min_samples_leaf=4, min_samples_split=16, n_estimators=1000; total time=   1.9s\n",
            "[CV] END bootstrap=True, max_depth=12, max_features=auto, min_samples_leaf=4, min_samples_split=16, n_estimators=1000; total time=   1.9s\n",
            "[CV] END bootstrap=True, max_depth=12, max_features=auto, min_samples_leaf=4, min_samples_split=16, n_estimators=1000; total time=   1.9s\n",
            "[CV] END bootstrap=True, max_depth=12, max_features=auto, min_samples_leaf=6, min_samples_split=10, n_estimators=200; total time=   0.4s\n",
            "[CV] END bootstrap=True, max_depth=12, max_features=auto, min_samples_leaf=6, min_samples_split=10, n_estimators=200; total time=   0.4s\n",
            "[CV] END bootstrap=True, max_depth=12, max_features=auto, min_samples_leaf=6, min_samples_split=10, n_estimators=200; total time=   0.4s\n",
            "[CV] END bootstrap=True, max_depth=12, max_features=auto, min_samples_leaf=6, min_samples_split=10, n_estimators=200; total time=   0.4s\n",
            "[CV] END bootstrap=True, max_depth=12, max_features=auto, min_samples_leaf=6, min_samples_split=10, n_estimators=200; total time=   0.4s\n",
            "[CV] END bootstrap=True, max_depth=12, max_features=auto, min_samples_leaf=6, min_samples_split=10, n_estimators=500; total time=   1.0s\n",
            "[CV] END bootstrap=True, max_depth=12, max_features=auto, min_samples_leaf=6, min_samples_split=10, n_estimators=500; total time=   1.0s\n",
            "[CV] END bootstrap=True, max_depth=12, max_features=auto, min_samples_leaf=6, min_samples_split=10, n_estimators=500; total time=   1.0s\n",
            "[CV] END bootstrap=True, max_depth=12, max_features=auto, min_samples_leaf=6, min_samples_split=10, n_estimators=500; total time=   1.0s\n",
            "[CV] END bootstrap=True, max_depth=12, max_features=auto, min_samples_leaf=6, min_samples_split=10, n_estimators=500; total time=   1.0s\n",
            "[CV] END bootstrap=True, max_depth=12, max_features=auto, min_samples_leaf=6, min_samples_split=10, n_estimators=1000; total time=   1.9s\n",
            "[CV] END bootstrap=True, max_depth=12, max_features=auto, min_samples_leaf=6, min_samples_split=10, n_estimators=1000; total time=   1.9s\n",
            "[CV] END bootstrap=True, max_depth=12, max_features=auto, min_samples_leaf=6, min_samples_split=10, n_estimators=1000; total time=   1.9s\n",
            "[CV] END bootstrap=True, max_depth=12, max_features=auto, min_samples_leaf=6, min_samples_split=10, n_estimators=1000; total time=   1.9s\n",
            "[CV] END bootstrap=True, max_depth=12, max_features=auto, min_samples_leaf=6, min_samples_split=10, n_estimators=1000; total time=   1.9s\n",
            "[CV] END bootstrap=True, max_depth=12, max_features=auto, min_samples_leaf=6, min_samples_split=12, n_estimators=200; total time=   0.4s\n",
            "[CV] END bootstrap=True, max_depth=12, max_features=auto, min_samples_leaf=6, min_samples_split=12, n_estimators=200; total time=   0.4s\n",
            "[CV] END bootstrap=True, max_depth=12, max_features=auto, min_samples_leaf=6, min_samples_split=12, n_estimators=200; total time=   0.4s\n",
            "[CV] END bootstrap=True, max_depth=12, max_features=auto, min_samples_leaf=6, min_samples_split=12, n_estimators=200; total time=   0.4s\n",
            "[CV] END bootstrap=True, max_depth=12, max_features=auto, min_samples_leaf=6, min_samples_split=12, n_estimators=200; total time=   0.4s\n",
            "[CV] END bootstrap=True, max_depth=12, max_features=auto, min_samples_leaf=6, min_samples_split=12, n_estimators=500; total time=   0.9s\n",
            "[CV] END bootstrap=True, max_depth=12, max_features=auto, min_samples_leaf=6, min_samples_split=12, n_estimators=500; total time=   1.0s\n",
            "[CV] END bootstrap=True, max_depth=12, max_features=auto, min_samples_leaf=6, min_samples_split=12, n_estimators=500; total time=   1.0s\n",
            "[CV] END bootstrap=True, max_depth=12, max_features=auto, min_samples_leaf=6, min_samples_split=12, n_estimators=500; total time=   1.0s\n",
            "[CV] END bootstrap=True, max_depth=12, max_features=auto, min_samples_leaf=6, min_samples_split=12, n_estimators=500; total time=   1.0s\n",
            "[CV] END bootstrap=True, max_depth=12, max_features=auto, min_samples_leaf=6, min_samples_split=12, n_estimators=1000; total time=   1.9s\n",
            "[CV] END bootstrap=True, max_depth=12, max_features=auto, min_samples_leaf=6, min_samples_split=12, n_estimators=1000; total time=   1.9s\n",
            "[CV] END bootstrap=True, max_depth=12, max_features=auto, min_samples_leaf=6, min_samples_split=12, n_estimators=1000; total time=   1.9s\n",
            "[CV] END bootstrap=True, max_depth=12, max_features=auto, min_samples_leaf=6, min_samples_split=12, n_estimators=1000; total time=   2.0s\n",
            "[CV] END bootstrap=True, max_depth=12, max_features=auto, min_samples_leaf=6, min_samples_split=12, n_estimators=1000; total time=   1.9s\n",
            "[CV] END bootstrap=True, max_depth=12, max_features=auto, min_samples_leaf=6, min_samples_split=14, n_estimators=200; total time=   0.4s\n",
            "[CV] END bootstrap=True, max_depth=12, max_features=auto, min_samples_leaf=6, min_samples_split=14, n_estimators=200; total time=   0.4s\n",
            "[CV] END bootstrap=True, max_depth=12, max_features=auto, min_samples_leaf=6, min_samples_split=14, n_estimators=200; total time=   0.4s\n",
            "[CV] END bootstrap=True, max_depth=12, max_features=auto, min_samples_leaf=6, min_samples_split=14, n_estimators=200; total time=   0.4s\n",
            "[CV] END bootstrap=True, max_depth=12, max_features=auto, min_samples_leaf=6, min_samples_split=14, n_estimators=200; total time=   0.4s\n",
            "[CV] END bootstrap=True, max_depth=12, max_features=auto, min_samples_leaf=6, min_samples_split=14, n_estimators=500; total time=   0.9s\n",
            "[CV] END bootstrap=True, max_depth=12, max_features=auto, min_samples_leaf=6, min_samples_split=14, n_estimators=500; total time=   0.9s\n",
            "[CV] END bootstrap=True, max_depth=12, max_features=auto, min_samples_leaf=6, min_samples_split=14, n_estimators=500; total time=   1.0s\n",
            "[CV] END bootstrap=True, max_depth=12, max_features=auto, min_samples_leaf=6, min_samples_split=14, n_estimators=500; total time=   0.9s\n",
            "[CV] END bootstrap=True, max_depth=12, max_features=auto, min_samples_leaf=6, min_samples_split=14, n_estimators=500; total time=   0.9s\n",
            "[CV] END bootstrap=True, max_depth=12, max_features=auto, min_samples_leaf=6, min_samples_split=14, n_estimators=1000; total time=   1.9s\n",
            "[CV] END bootstrap=True, max_depth=12, max_features=auto, min_samples_leaf=6, min_samples_split=14, n_estimators=1000; total time=   1.9s\n",
            "[CV] END bootstrap=True, max_depth=12, max_features=auto, min_samples_leaf=6, min_samples_split=14, n_estimators=1000; total time=   1.9s\n",
            "[CV] END bootstrap=True, max_depth=12, max_features=auto, min_samples_leaf=6, min_samples_split=14, n_estimators=1000; total time=   1.9s\n",
            "[CV] END bootstrap=True, max_depth=12, max_features=auto, min_samples_leaf=6, min_samples_split=14, n_estimators=1000; total time=   1.9s\n",
            "[CV] END bootstrap=True, max_depth=12, max_features=auto, min_samples_leaf=6, min_samples_split=16, n_estimators=200; total time=   0.4s\n",
            "[CV] END bootstrap=True, max_depth=12, max_features=auto, min_samples_leaf=6, min_samples_split=16, n_estimators=200; total time=   0.4s\n",
            "[CV] END bootstrap=True, max_depth=12, max_features=auto, min_samples_leaf=6, min_samples_split=16, n_estimators=200; total time=   0.4s\n",
            "[CV] END bootstrap=True, max_depth=12, max_features=auto, min_samples_leaf=6, min_samples_split=16, n_estimators=200; total time=   0.4s\n",
            "[CV] END bootstrap=True, max_depth=12, max_features=auto, min_samples_leaf=6, min_samples_split=16, n_estimators=200; total time=   0.4s\n",
            "[CV] END bootstrap=True, max_depth=12, max_features=auto, min_samples_leaf=6, min_samples_split=16, n_estimators=500; total time=   0.9s\n",
            "[CV] END bootstrap=True, max_depth=12, max_features=auto, min_samples_leaf=6, min_samples_split=16, n_estimators=500; total time=   0.9s\n",
            "[CV] END bootstrap=True, max_depth=12, max_features=auto, min_samples_leaf=6, min_samples_split=16, n_estimators=500; total time=   0.9s\n",
            "[CV] END bootstrap=True, max_depth=12, max_features=auto, min_samples_leaf=6, min_samples_split=16, n_estimators=500; total time=   0.9s\n",
            "[CV] END bootstrap=True, max_depth=12, max_features=auto, min_samples_leaf=6, min_samples_split=16, n_estimators=500; total time=   0.9s\n",
            "[CV] END bootstrap=True, max_depth=12, max_features=auto, min_samples_leaf=6, min_samples_split=16, n_estimators=1000; total time=   1.9s\n",
            "[CV] END bootstrap=True, max_depth=12, max_features=auto, min_samples_leaf=6, min_samples_split=16, n_estimators=1000; total time=   1.8s\n",
            "[CV] END bootstrap=True, max_depth=12, max_features=auto, min_samples_leaf=6, min_samples_split=16, n_estimators=1000; total time=   1.9s\n",
            "[CV] END bootstrap=True, max_depth=12, max_features=auto, min_samples_leaf=6, min_samples_split=16, n_estimators=1000; total time=   1.9s\n",
            "[CV] END bootstrap=True, max_depth=12, max_features=auto, min_samples_leaf=6, min_samples_split=16, n_estimators=1000; total time=   1.9s\n"
          ]
        }
      ],
      "source": [
        "# Create the parameter grid for GridSearchCV\n",
        "parameters = {\"n_estimators\": [200,500,1000],\n",
        "                \"max_features\": [\"auto\"],\n",
        "                \"max_depth\": [8,10,12],\n",
        "                \"min_samples_split\": [10,12,14,16],\n",
        "                \"min_samples_leaf\": [2,4,6],\n",
        "                \"bootstrap\": [True]}\n",
        "\n",
        "# Instantiate a Random Forest Regressor\n",
        "RFR = RandomForestRegressor(random_state=42)\n",
        "\n",
        "# Setup grid search\n",
        "RFgrid = GridSearchCV(estimator = RFR, param_grid = parameters, cv=5, verbose=2)\n",
        "\n",
        "# Train the grid search model on training dataset\n",
        "RFgrid.fit(X_train, y_train)\n",
        "\n",
        "# Get best RF estimator based on best parameters, and use RF regressor to predict on test set\n",
        "best_est = RFgrid.best_estimator_\n",
        "y_pred_test = best_est.predict(X_test)\n",
        "\n"
      ]
    },
    {
      "cell_type": "code",
      "execution_count": 354,
      "metadata": {
        "colab": {
          "base_uri": "https://localhost:8080/"
        },
        "id": "xlZUbUe8UUz2",
        "outputId": "101e4eed-56d1-4a9f-983c-f3994c39efc0"
      },
      "outputs": [
        {
          "name": "stdout",
          "output_type": "stream",
          "text": [
            "Random Forest Regression testing R2 score : 0.8919160002975978\n",
            "Random Forest Regression mean absolute error: 2246.7210754875273\n",
            "Random Forest Regression mean squared error: 15532454.471895708\n"
          ]
        }
      ],
      "source": [
        "# Print the R2 Score for Random Forest Regression model\n",
        "test_score = r2_score(y_test, y_pred_test)\n",
        "print('Random Forest Regression testing R2 score :', test_score)\n",
        "\n",
        "# Print the mean absolute error for Random Forest Regression model\n",
        "print('Random Forest Regression mean absolute error:', mean_absolute_error(y_test, y_pred_test))\n",
        "\n",
        "# Print the mean squared error for Random Forest Regression model\n",
        "print('Random Forest Regression mean squared error:', mean_squared_error(y_test, y_pred_test))\n",
        "\n",
        "\n",
        "\n"
      ]
    }
  ],
  "metadata": {
    "colab": {
      "collapsed_sections": [],
      "provenance": []
    },
    "kernelspec": {
      "display_name": "Python 3",
      "name": "python3"
    },
    "language_info": {
      "name": "python"
    }
  },
  "nbformat": 4,
  "nbformat_minor": 0
}
